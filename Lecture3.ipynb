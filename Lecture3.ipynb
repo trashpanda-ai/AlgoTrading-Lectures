{
 "cells": [
  {
   "cell_type": "markdown",
   "metadata": {
    "id": "KzEMgWjGxzsT"
   },
   "source": [
    "<a ><img src=\"https://cdn.tuinvest.de/assets/logos/TUInvest_Logo-353d42494757660b8381a31c9f99a6ca.png\"  width=\"200\" align=\"left\"> </a>\n",
    "<div style=\"text-align: right\"> <h3><span style=\"color:gray\"> INTERNAL USE ONLY </span> </h3> </div>\n",
    "\n",
    "<br>\n",
    "<br>\n",
    "<br>\n",
    "\n",
    "<a ><img src=\"Pictures/QSeries.png\" Width=\"300\" align=\"center\"> </a>\n",
    "\n",
    "<br>\n",
    "<br>\n",
    "\n",
    "\n",
    "\n",
    "<h1><center>AlgoTrading 101 — A hands-on Introduction</center></h1>\n",
    "<h2><center> <span style=\"font-weight:normal\"><font color='#022F73'> Lecture 3: Backtesting and Portfolio Strategy </font>  </span></center></h2>\n",
    "\n",
    "\n",
    "<h3><center><font color='gray'>JONAS GOTTAL</font></center></h3>\n"
   ]
  },
  {
   "cell_type": "markdown",
   "metadata": {
    "id": "dO2hJc3wxzsW",
    "slideshow": {
     "slide_type": "slide"
    }
   },
   "source": [
    "<h4>About this Notebook</h4>\n",
    "The Objective of this Lecture is a comprehensible hands-on Introduction to Algo Trading <br>\n",
    "for the members of TU Invest, to raise curiosity and resurrect Alternative Strategies/Assets.\n",
    "\n",
    "Although the material used is not fit to  *understand*  for beginners, with easier strategies <br>\n",
    "there won't be a profitable among them. Thus the mathematics statistics behind the following  <br>\n",
    "stratgies might be hard to understand but not to implement. And I hope this will lead some  <br>\n",
    "curious minds to further study the concepts more thoroughly. <br>\n",
    "<br>\n"
   ]
  },
  {
   "cell_type": "markdown",
   "metadata": {
    "id": "lqQx4LXuxzsY"
   },
   "source": [
    "---\n",
    "---\n",
    "<div style=\"text-align: center\"> <h3><span style=\"color:red\"> WORKING DRAFT</span> </h3> </div>\n",
    "\n",
    "---\n",
    "---\n"
   ]
  },
  {
   "cell_type": "markdown",
   "metadata": {
    "id": "kI5wU5naxzsa",
    "slideshow": {
     "slide_type": "slide"
    }
   },
   "source": [
    "<h1>Table of contents</h1>\n",
    "\n",
    "<div class=\"alert alert-block alert-info\" style=\"text-decoration:none; margin-top: 30px; background-color:#F2F2F2; border-color:#022F73\">\n",
    "    <span style=\"color:#022F73\">\n",
    "    <ol>\n",
    "        <li><a href=\"#1\"> <span style=\"color:#022F73;text-decoration:underline;text-decoration-color:#F2F2F2\" \n",
    "       >Backtesting</span> </a></li>\n",
    "       <ol>\n",
    "       <li><a href=\"#16\"> <span style=\"color:#022F73;text-decoration:underline;text-decoration-color:#F2F2F2\" \n",
    "       >Biases: Look-Ahead, Survivorship and Optimization</span> </a></li>    \n",
    "       <li><a href=\"#3\"> <span style=\"color:#022F73;text-decoration:underline;text-decoration-color:#F2F2F2\" \n",
    "       >Volume, Slippage, Liquidity and other Costs</span> </a></li>\n",
    "        <li><a href=\"#4\"> <span style=\"color:#022F73;text-decoration:underline;text-decoration-color:#F2F2F2\" \n",
    "       >Libraries</span> </a></li>   \n",
    "        </ol>\n",
    "       <li><a href=\"#5\"> <span style=\"color:#022F73;text-decoration:underline;text-decoration-color:#F2F2F2\" \n",
    "       >Performance</span> </a></li>\n",
    "       <ol>\n",
    "       <li><a href=\"#6\"> <span style=\"color:#022F73;text-decoration:underline;text-decoration-color:#F2F2F2\" \n",
    "       >Basics: Alpha and Beta</span> </a></li>  \n",
    "        <li><a href=\"#7\"> <span style=\"color:#022F73;text-decoration:underline;text-decoration-color:#F2F2F2\" \n",
    "       >Portfolio Overview: Returns, Risk and Drawdown</span> </a></li>   \n",
    "       <li><a href=\"#8\"> <span style=\"color:#022F73;text-decoration:underline;text-decoration-color:#F2F2F2\" \n",
    "       >Beta Hedging</span> </a></li>          \n",
    "        </ol>\n",
    "        <li><a href=\"#9\"> <span style=\"color:#022F73;text-decoration:underline;text-decoration-color:#F2F2F2\" \n",
    "       >Portfolio Strategy</span> </a></li>\n",
    "       <ol>\n",
    "        <li><a href=\"#10\"> <span style=\"color:#022F73;text-decoration:underline;text-decoration-color:#F2F2F2\" \n",
    "       >Markowitz</span> </a></li>    \n",
    "       <li><a href=\"#11\"> <span style=\"color:#022F73;text-decoration:underline;text-decoration-color:#F2F2F2\" \n",
    "       >Risk-Constrained Portfolio Optimization</span> </a></li>      \n",
    "        </ol> \n",
    "        <li><a href=\"#12\"> <span style=\"color:#022F73;text-decoration:underline;text-decoration-color:#F2F2F2\" \n",
    "       >APPENDIX</span> </a></li>\n",
    "        <ol>\n",
    "        <li><a href=\"#13\"> <span style=\"color:#022F73;text-decoration:underline;text-decoration-color:#F2F2F2\" \n",
    "       >Outlook for Part II: Derivatives, Big Data and Sentiment Analysis</span> </a></li>    \n",
    "       <li><a href=\"#14\"> <span style=\"color:#022F73;text-decoration:underline;text-decoration-color:#F2F2F2\" \n",
    "       >Additional Sources</span> </a></li> \n",
    "        </ol>\n",
    "    </ol>\n",
    "    </span>\n",
    "</div>"
   ]
  },
  {
   "cell_type": "code",
   "execution_count": 11,
   "metadata": {
    "id": "bq5rk3lDxzsg"
   },
   "outputs": [],
   "source": [
    "import numpy as np\n",
    "import pandas as pd\n",
    "import dtale\n",
    "import math\n",
    "import matplotlib.pyplot as plt\n",
    "import seaborn as sns\n",
    "import backtester\n",
    "import statsmodels.api as sm\n",
    "from scipy import stats\n",
    "from statsmodels import regression"
   ]
  },
  {
   "cell_type": "markdown",
   "metadata": {
    "heading_collapsed": true,
    "id": "FK4Tiq1oxz3g"
   },
   "source": [
    "# 1. Backtesting <a id=\"1\"></a>"
   ]
  },
  {
   "cell_type": "markdown",
   "metadata": {
    "hidden": true
   },
   "source": [
    "### Basic Thought\n",
    "\n",
    "Iteration through (unseen) historical Data to mimic the market"
   ]
  },
  {
   "cell_type": "markdown",
   "metadata": {
    "heading_collapsed": true,
    "hidden": true,
    "id": "ZibjDJumxz35"
   },
   "source": [
    "## A. Biases: Survivorship, Look-Ahead and Optimization <a id=\"16\"></a>"
   ]
  },
  {
   "cell_type": "markdown",
   "metadata": {
    "heading_collapsed": true,
    "hidden": true,
    "id": "6Z6EvlrHxz35"
   },
   "source": [
    "### Survivorship Bias"
   ]
  },
  {
   "cell_type": "markdown",
   "metadata": {
    "hidden": true,
    "id": "Iyrzy18yxz36"
   },
   "source": [
    "<a ><img src=\"https://upload.wikimedia.org/wikipedia/commons/9/98/Survivorship-bias.png\" Width=\"700\" align=\"center\"> </a>\n",
    "\n"
   ]
  },
  {
   "cell_type": "markdown",
   "metadata": {
    "hidden": true,
    "id": "Hxqsy4Q9xz36"
   },
   "source": [
    "\n",
    "In order to evaluate a population based on sample observations, the sample must be unbiased. Otherwise, it is not representative of the population, and conclusions drawn from it will be invalid. For example, we always take into account the number of samples we have, and expect to have more accurate results if we have more observations. Here we will discuss four other types of sampling bias."
   ]
  },
  {
   "cell_type": "markdown",
   "metadata": {
    "heading_collapsed": true,
    "hidden": true,
    "id": "ofPWsDLjxz38"
   },
   "source": [
    "### Look-ahead bias\n"
   ]
  },
  {
   "cell_type": "markdown",
   "metadata": {
    "hidden": true
   },
   "source": [
    "Look-ahead bias occurs when attempting to analyze from the perspective of a day in the past and using information that was not available on that day. For instance, fundamentals data may not be reported in real time. Models subject to look-ahead bias cannot be used in practice since they would require information from the future."
   ]
  },
  {
   "cell_type": "markdown",
   "metadata": {
    "heading_collapsed": true,
    "hidden": true
   },
   "source": [
    "### Optimization Bias"
   ]
  },
  {
   "cell_type": "markdown",
   "metadata": {
    "heading_collapsed": true,
    "hidden": true,
    "id": "Icj8bapFxz3g"
   },
   "source": [
    "#### What is overfitting?\n",
    "\n",
    "When constructing a model, we tune both the parameters and the model by fitting to sample data. We then use the model and parameters to predict data we have not yet observed. We say a model is overfit when it is overly sensitive to noise and idiosyncracies in the sample data, and therefore does not reflect the underlying data-generating process.\n",
    "\n",
    "To understand why this happens, one has to consider the amount of noise present in any dataset. One can consider a set of data as $D_{T}$, the true underlying data that came from whatever process we are trying to model, and $\\epsilon$, some random noise. Therefore, what we actually see is $D = D_{T} + \\epsilon$. By building a complicated model we might fit our model to very perfectly predict for the given $\\epsilon$. However, when we test on future out of sample data, this model will fail to predict for $D_{T}$.\n",
    "\n",
    "In practice, we only care about fitting to the sample insofar as that gives an accurate fit to future data. The two broad causes of overfitting are:\n",
    "* small sample size, so that noise and trend are not distinguishable\n",
    "* choosing an overly complex model, so that it ends up contorting to fit the noise in the sample\n",
    "\n",
    "Generalizing this to stocks, if your model starts developing many specific rules based on specific past events, it is almost definitely overfitting. This is why black-box machine learning (neural networks, etc.) is so dangerous when not done correctly."
   ]
  },
  {
   "cell_type": "markdown",
   "metadata": {
    "hidden": true,
    "id": "4eavG12Lxz3g"
   },
   "source": [
    "#### Verbal Example: Too Many Rules (Complexity)\n",
    "\n",
    "Let's say you have the following dataset:\n",
    "\n",
    "| TV Channel | Room Lighting Intensity | Enjoyment |\n",
    "|------------|-------------------------|-----------|\n",
    "| 1          | 2                       | 1         |\n",
    "| 2          | 3                       | 2         |\n",
    "| 3          | 1                       | 3         |\n",
    "\n",
    "You are trying to predict enjoyment, so you create the following rules:\n",
    "\n",
    "1. If TV Channel is 1 and Lighting Intensity is 2, then Enjoyment will be 1.\n",
    "2. If TV Channel is 2 and Lighting Intensity is 3, then Enjoyment will be 2.\n",
    "3. If TV Channel is 3 and Lighting Intensity is 1, then Enjoyment will be 3.\n",
    "4. In all other cases predict an average enjoyment of 2.\n",
    "\n",
    "This is a well defined model for future data, however, in this case let's say your enjoyment is purely dependent on the tv channel and not on the lighting. Because we have a rule for each row in our dataset, our model is perfectly predictive in our historical data, but would performly poorly in real trials because  we are overfitting to random noise in the lighting intensity data.\n",
    "\n",
    "Generalizing this to stocks, if your model starts developing many specific rules based on specific past events, it is almost definitely overfitting. This is why black-box machine learning (neural networks, etc.) is so dangerous when not done correctly."
   ]
  },
  {
   "cell_type": "markdown",
   "metadata": {
    "hidden": true,
    "id": "6XDRWhHsxz3h"
   },
   "source": [
    "#### Example: Curve fitting\n",
    "\n",
    "Overfitting is most easily seen when we look at polynomial regression. Below we construct a dataset which noisily follows a quadratic. The linear model is underfit: simple linear models aren't suitable for all situations, especially when we have reason to believe that the data is nonlinear. The quadratic curve has some error but fits the data well.\n",
    "\n",
    "When we fit a ninth-degree polynomial to the data, the error is zero - a ninth-degree polynomial can be constructed to go through any 10 points - but, looking at the tails of the curve, we know that we can't expect it to accurately predict other samples from the same distribution. It fits the data perfectly, but that is because it also fits the noise perfectly, and the noise is not what we want to model. In this case we have selected a model that is too complex."
   ]
  },
  {
   "cell_type": "code",
   "execution_count": 6,
   "metadata": {
    "hidden": true,
    "id": "zLJktslwxz3h"
   },
   "outputs": [],
   "source": [
    "from statsmodels import regression\n",
    "from scipy import poly1d"
   ]
  },
  {
   "cell_type": "code",
   "execution_count": 7,
   "metadata": {
    "hidden": true,
    "id": "2XF-aTGqxz3i"
   },
   "outputs": [
    {
     "data": {
      "image/png": "[encoded data removed]",
      "text/plain": [
       "<Figure size 1080x504 with 1 Axes>"
      ]
     },
     "metadata": {
      "needs_background": "light"
     },
     "output_type": "display_data"
    }
   ],
   "source": [
    "x = np.arange(10)\n",
    "y = 2*np.random.randn(10) + x**2\n",
    "xs = np.linspace(-0.25, 9.25, 200)\n",
    "\n",
    "lin = np.polyfit(x, y, 1)\n",
    "quad = np.polyfit(x, y, 2)\n",
    "many = np.polyfit(x, y, 9)\n",
    "\n",
    "plt.figure(figsize=(15,7))\n",
    "plt.scatter(x, y)\n",
    "plt.plot(xs, poly1d(lin)(xs))\n",
    "plt.plot(xs, poly1d(quad)(xs))\n",
    "plt.plot(xs, poly1d(many)(xs))\n",
    "plt.ylabel('Y')\n",
    "plt.xlabel('X')\n",
    "plt.legend(['Underfit', 'Good fit', 'Overfit']);\n",
    "plt.show()"
   ]
  },
  {
   "cell_type": "markdown",
   "metadata": {
    "hidden": true,
    "id": "ilcs3BTcxz3i"
   },
   "source": [
    "When working with real data, there is unlikely to ever be a situation where a ninth-degree polynomial is appropriate: our choice of function should reflect a belief about the underlying process, and real-world processes generally do not follow high-degree polynomial curves. This example is contrived, but it can be tempting to use a quadratic or cubic model just to decrease sample error."
   ]
  },
  {
   "cell_type": "markdown",
   "metadata": {
    "hidden": true,
    "id": "C7o0pogyxz3i"
   },
   "source": [
    "#### Note: Model/Parameter Parsimony\n",
    "\n",
    "Just as the most elegant physics models describe a tremendous amount of our world through a few equations, a good trading model should explain most of the data through a few rules. Any time you start to have a number of rules even close to the number of points in your data set, you can be sure you are overfitting. Since parameters can be thought of as rules as they equivalently constrain a model, the same is true of parameters. Fewer parameters is better, and it is better to explain 60% of the data with 2-3 paremeters than 90% with 10."
   ]
  },
  {
   "cell_type": "markdown",
   "metadata": {
    "hidden": true,
    "id": "O3G9cM7_xz3j"
   },
   "source": [
    "#### Beware of the perfect fit\n",
    "\n",
    "Because there is almost always noise present in real data, a perfect fit is almost always indicative of overfitting. It is almost impossible to know the percentage noise/signal in a given data set while you are developing the model, but use your common sense. Are the predictions surprisingly good? Then you're probably overfitting."
   ]
  },
  {
   "cell_type": "markdown",
   "metadata": {
    "collapsed": true,
    "hidden": true,
    "id": "P42thfHrxz3j"
   },
   "source": [
    "#### Example: Regression parameters\n",
    "\n",
    "How do we know which variables to include in a model? If we're afraid of omitting something important, we might try different ones and include all the variables we can find that improve the fit. Below we regress one asset that is in the same sector as the asset whose price we're trying to predict, and three other unrelated ones. In our initial timeframe, we are able to fit the model more closely to the data when using multiple variables than when using just one."
   ]
  },
  {
   "cell_type": "markdown",
   "metadata": {
    "hidden": true,
    "id": "Udi-Xj50xz3k"
   },
   "source": [
    "However, when we use the same estimated parameters to model a different time period, we find that the single-variable model fits worse, while the multiple-variable model is entirely useless. It seems that the relationships we found are not consistent and are particular to the original sample period."
   ]
  },
  {
   "cell_type": "markdown",
   "metadata": {
    "hidden": true,
    "id": "rlB4KnMAxz3l"
   },
   "source": [
    "If we wanted, we could scan our universe for variables that were correlated with the dependent variable, and construct an extremely overfitted model. However, in most cases the correlation will be spurious, and the relationship will not continue into the future."
   ]
  },
  {
   "cell_type": "markdown",
   "metadata": {
    "hidden": true,
    "id": "EjqgjBo7xz3l"
   },
   "source": [
    "#### Example: Rolling windows\n",
    "\n",
    "One of the challenges in building a model that uses rolling parameter estimates, such as rolling mean or rolling beta, is choosing a window length. A longer window will take into account long-term trends and be less volatile, but it will also lag more when taking into account new observations. The choice of window length strongly affects the rolling parameter estimate and can change how we see and treat the data. Below we calculate the rolling averages of a stock price for different window lengths:"
   ]
  },
  {
   "cell_type": "code",
   "execution_count": 16,
   "metadata": {
    "hidden": true,
    "id": "_OqdoteXxz3l"
   },
   "outputs": [
    {
     "name": "stdout",
     "output_type": "stream",
     "text": [
      "Processing data for stock: AAPL\n",
      "20% done...\n",
      "40% done...\n",
      "60% done...\n",
      "80% done...\n"
     ]
    },
    {
     "data": {
      "image/png": "[encoded data removed]",
      "text/plain": [
       "<Figure size 1080x504 with 1 Axes>"
      ]
     },
     "metadata": {
      "needs_background": "light"
     },
     "output_type": "display_data"
    }
   ],
   "source": [
    "from backtester.dataSource.yahoo_data_source import YahooStockDataSource\n",
    "\n",
    "\n",
    "startDateStr = '2017/01/01'\n",
    "endDateStr = '2020/01/01'\n",
    "cachedFolderName = '../data/'\n",
    "dataSetId = 'Data'\n",
    "instrumentIds = ['AAPL']\n",
    "ds = YahooStockDataSource(cachedFolderName=cachedFolderName,\n",
    "                            dataSetId=dataSetId,\n",
    "                            instrumentIds=instrumentIds,\n",
    "                            startDateStr=startDateStr,\n",
    "                            endDateStr=endDateStr,\n",
    "                            event='history')\n",
    "X = ds.getBookDataByFeature()['adjClose']\n",
    "asset = X.iloc[:, 0]\n",
    "# Compute rolling averages for various window lengths\n",
    "mu_30d = asset.rolling(window=30, center=False).mean()\n",
    "mu_60d = asset.rolling(window=60, center=False).mean()\n",
    "mu_100d = asset.rolling(window=100, center=False).mean()\n",
    "\n",
    "# Plot asset pricing data with rolling means from the 100th day, when all the means become available\n",
    "plt.figure(figsize=(15,7))\n",
    "plt.plot(asset[100:], label='Asset')\n",
    "plt.plot(mu_30d[100:], label='30d MA')\n",
    "plt.plot(mu_60d[100:], label='60d MA')\n",
    "plt.plot(mu_100d[100:], label='100d MA')\n",
    "plt.xlabel('Day')\n",
    "plt.ylabel('Price')\n",
    "plt.legend()\n",
    "plt.show()"
   ]
  },
  {
   "cell_type": "markdown",
   "metadata": {
    "hidden": true,
    "id": "O7rjgpH5xz3q"
   },
   "source": [
    "#### Avoiding overfitting\n",
    "\n",
    "We can try to avoid overfitting by taking large samples, choosing reasonable and simple models, and not cherry-picking parameters to fit the data; but just running two backtests is already overfitting.\n",
    "\n",
    "##### Out of Sample Testing\n",
    "\n",
    "To make sure we haven't broken our model with overfitting, we have to test out of sample. That is, we need to gather data that we did not use in constructing the model, and test whether our model continues to work. If we cannot gather large amounts of additional data at will, we should split the sample we have into two parts, of which one is reserved for testing only.\n",
    "\n",
    "##### Common Mistake: Abusing Out of Sample Data\n",
    "\n",
    "Sometimes people will construct a model on in-sample data, test on out-of-sample data, and conclude it doesn't work. They will then repeat this process until they find a model that works. This is still overfitting, as you have overfit the model to the out-of-sample data by using it many times, and when you actually test on true out-of-sample data your model will likely break down.\n",
    "\n",
    "##### Cross Validation\n",
    "\n",
    "Cross validation is the process of splitting your data into n parts, then estimating optimal parameters for n-1 parts combined and testing on the final part. By doing this n times, one for each part held out, we can establish how stable our parameter estimates are and how predictive they are on data not from the original set.\n",
    "\n",
    "#### Information Criterion\n",
    "\n",
    "Information criterion are a rigorous statistical way to test if the amount of complexity in your model is worth the extra predictive power. The test favors simpler models and will tell you if you are introducing a large amount of complexity without much return. One of the most common methods is [Akaike Information Criterion.](https://en.wikipedia.org/wiki/Akaike_information_criterion)"
   ]
  },
  {
   "cell_type": "markdown",
   "metadata": {
    "heading_collapsed": true,
    "hidden": true
   },
   "source": [
    "### Others"
   ]
  },
  {
   "cell_type": "markdown",
   "metadata": {
    "hidden": true,
    "id": "x5opw4oKxz37"
   },
   "source": [
    "#### Data-mining bias\n",
    "\n",
    "Data mining refers to testing a set of data for the presense of different patterns, and can lead to bias if used excessively. Because our analyses are always probabilistic, we can always try enough things that one will appear to work. For instance, if we test 100 different variables for correlation with a dataset using a 5% significance level, we expect to find 5 that are significantly correlated with the data just by random chance. Below we test this for random variables and a random dataset. The result will be different each time, so try rerunning the cell!"
   ]
  },
  {
   "cell_type": "code",
   "execution_count": 3,
   "metadata": {
    "hidden": true,
    "id": "Z_7_6AWAxz37"
   },
   "outputs": [
    {
     "name": "stdout",
     "output_type": "stream",
     "text": [
      "[0.037895617712912014, 0.048792936317678275, 0.02167880657951087, 0.02541630628102966, 0.03462656793672533]\n"
     ]
    }
   ],
   "source": [
    "import numpy as np\n",
    "from scipy.stats import pearsonr\n",
    "\n",
    "# Generate completely random numbers\n",
    "randos = [np.random.rand(100) for i in range(100)]\n",
    "y = np.random.rand(100)\n",
    "\n",
    "# Compute correlation coefficients (Pearson r) and record their p-values (2nd value returned by pearsonr)\n",
    "ps = [pearsonr(x,y)[1] for x in randos]\n",
    "\n",
    "# Print the p-values of the significant correlations, i.e. those that are less than .05\n",
    "print ([p for p in ps if p < .05])"
   ]
  },
  {
   "cell_type": "markdown",
   "metadata": {
    "hidden": true,
    "id": "x1OICzAFxz38"
   },
   "source": [
    "Above we data-mined by hand. There is also intergeneratinal data mining, which is using previous results about the same dataset you are investigating or a highly related one, which can also lead to bias.\n",
    "\n",
    "The problem here is that there is no reason to believe that the pattern we found will continue; for instance, if we continue to generate random numbers above, they will not continue to be correlated. [Meaningless correlations](http://tylervigen.com/view_correlation?id=866) can arise between datasets by coincidence. This is similar to the problem of overfitting, where a model is contorted to fit historical data perfectly but then fails out of sample. It is important to perform such an out-of-sample test (that is, using data not overlapping with that which was examined when creating the model) in order to check for data-mining bias."
   ]
  },
  {
   "cell_type": "markdown",
   "metadata": {
    "hidden": true,
    "id": "EKj7beubxz38"
   },
   "source": [
    "#### Sample selection bias\n",
    "\n",
    "Bias resulting from data availability is called sample selection bias. Sometimes it is impossible to avoid, but awareness of the phenomenon can help avoid incorrect conclusions. Survivorship bias occurs when securities dropped from databases are not taken into account. This causes a bias because future analyses then do not take into account, for example, stocks of businesses that went bankrupt. However, businesses whose stock you buy now may very well go bankrupt in the future, so it is important to incorporate the behavior of such stocks into your model."
   ]
  },
  {
   "cell_type": "markdown",
   "metadata": {
    "hidden": true,
    "id": "l9LiYiebxz38"
   },
   "source": [
    "#### Time-period bias\n",
    "\n",
    "The choice of sample period affects results, and a model or analysis may not generalize to future periods. This is known as time-period bias. If we use only a short time period, we risk putting a lot of weight on a local phenomenon. However, if we use a long time period, we may include data from a prior regime that is no longer relevant."
   ]
  },
  {
   "cell_type": "markdown",
   "metadata": {
    "hidden": true,
    "id": "7A1s-Tnhxz3q"
   },
   "source": [
    "--- \n",
    "---"
   ]
  },
  {
   "cell_type": "markdown",
   "metadata": {
    "heading_collapsed": true,
    "hidden": true
   },
   "source": [
    "## B. Volume, Slippage, Liquidity and other Costs <a id=\"3\"></a>"
   ]
  },
  {
   "cell_type": "markdown",
   "metadata": {
    "heading_collapsed": true,
    "hidden": true
   },
   "source": [
    "### Volume"
   ]
  },
  {
   "cell_type": "markdown",
   "metadata": {
    "hidden": true,
    "id": "hybT2Yp3xz3q"
   },
   "source": [
    "\n",
    "Volume is how much trading occurs for a given instrument, or set of instruments, over a given time period. \n",
    "\n",
    "#### Example Volume Computation\n",
    "For instance, consider a hypothetical equity asset $A$. If, over the course of a minute, 100,000 shares of $A$ are bought, then the shares traded volume of $A$ is 100,000. To find the dollar volume traded for $A$, which is the more often-used statistic, we need to take a weighted average of all the different prices $A$ traded for over the minute times the number of shares that traded at each price. This is equivalent to adding up the dollar volumes of all the individual trasnactions that occured. For instance, let's say in this case there were there separate transactions. One for 30,000 shares, one for 60,000 shares, and one for 10,000 shares. The prices were 30 USD, 31 USD, and 33 USD, respectively. Let's model this out."
   ]
  },
  {
   "cell_type": "code",
   "execution_count": 22,
   "metadata": {
    "hidden": true,
    "id": "cvChGiSjxz3r"
   },
   "outputs": [
    {
     "data": {
      "text/plain": [
       "3090000"
      ]
     },
     "execution_count": 22,
     "metadata": {},
     "output_type": "execute_result"
    }
   ],
   "source": [
    "num_shares = np.asarray([30000, 60000, 10000])\n",
    "prices = np.asarray([30, 31, 33])\n",
    "\n",
    "np.dot(num_shares, prices)"
   ]
  },
  {
   "cell_type": "markdown",
   "metadata": {
    "hidden": true,
    "id": "YzWfsE27xz3s"
   },
   "source": [
    "So total dollar volume is 3.09 million USD. Notice that this is equivalent to taking the dollar volume averaged price and multiplying by the number of shares traded over that bar."
   ]
  },
  {
   "cell_type": "code",
   "execution_count": 24,
   "metadata": {
    "hidden": true,
    "id": "hED-lXtCxz3s"
   },
   "outputs": [
    {
     "name": "stdout",
     "output_type": "stream",
     "text": [
      "Average trade price: 31.333333333333332\n",
      "Volume weighted average trade price: 30.9\n",
      "Volume: 3090000.0\n"
     ]
    }
   ],
   "source": [
    "# Get the average trade price\n",
    "print (\"Average trade price: %s\" % (np.mean(prices)))\n",
    "\n",
    "# Get the volume weighted average\n",
    "vw = np.dot(num_shares, prices) / float(np.sum(num_shares))\n",
    "print (\"Volume weighted average trade price: %s\" % (vw))\n",
    "\n",
    "# Go back to volume\n",
    "v = vw * np.sum(num_shares)\n",
    "print (\"Volume: %s\" % (v))"
   ]
  },
  {
   "cell_type": "markdown",
   "metadata": {
    "hidden": true,
    "id": "DcJel_X1xz3t"
   },
   "source": [
    "Often in real datasets you will be given averaged or 'last traded' data rather than individual trades. With averaged data, some average is taken over a bar (time period). With last traded data, only the final observation from that bar is reported. It is important to know if the data is averaged, volume averaged, or simply last traded. All of these will need to be treated differently.\n",
    "\n",
    "For pricing data, Quantopian currently (as of April 2017) provides the last traded prices at a minute resolution. The volume is the sum of all volume in that bar. While we do not offer minutely volume-weighted price, daily volume-weighted price can be approximated from the minute bars.\n"
   ]
  },
  {
   "cell_type": "markdown",
   "metadata": {
    "hidden": true,
    "id": "baWO_RQTxz3y"
   },
   "source": [
    "#### High Equity Volume After Market Open\n",
    "There tends to be high volume right after market open. This is due to a variety of factors including people wanting to update their positions based on price changes and new information that emerged before trading started. Since there was a ton of time and possibly news overnight while the market could not react, trading right after the open can be a bit volatile as pricing adjusts.\n",
    "\n",
    "#### High Equity Volume Before Market Close\n",
    "There is a similar effect at the end of the day when people want to get in their final orders before trading closes and they no longer have the chance. Again there are a variety of factors that drive this increase, but the effect tends to be consistent."
   ]
  },
  {
   "cell_type": "markdown",
   "metadata": {
    "collapsed": true,
    "hidden": true,
    "id": "f8CXxNDGxz3y"
   },
   "source": [
    "#### Modeling Volume\n",
    "Volume can change a lot, and summary statistics such as mean volume may not always be representative. Model it as you would any other quantity and pay attention to whether your volume forecasts or measurements are useful. We do not discuss any specific models in this lecture as the models are often specific to the markets and instruments being traded.\n",
    "\n",
    "As with any other model, a model of volume needs to be carefully validated using rigorous statistics. As a rule of thumb you can expect more volume at the start and end of day in the US Equity market, but this will vary by equity and day, plus there will be shocks and half days. In practice you should apply just as much care as you would trying to model returns.  "
   ]
  },
  {
   "cell_type": "markdown",
   "metadata": {
    "heading_collapsed": true,
    "hidden": true
   },
   "source": [
    "### Slippage"
   ]
  },
  {
   "cell_type": "markdown",
   "metadata": {
    "hidden": true,
    "id": "0n7KsFlMxz3z"
   },
   "source": [
    "#### What is Slippage?\n",
    "\n",
    "Slippage occurs when large buy or sell orders drive the price of the market up or down respectively. Remember that for every share bought, a share must be sold by another party. If no parties are selling shares, buy orders will not be filled. This is a simplification of what actually occurs as there are complexities around issues such as bid/ask spread, but we will not consider those here. To understand why price shifts happen when large orders are placed, consider the following scenario:\n",
    "\n",
    "1. Person A places a buy order for 1000 shares of stock X. Currently trading at $100$ USD / share.\n",
    "2. There is only one sell order for 500 shares.\n",
    "3. The broker fills 500 shares of the order at 100 USD / share.\n",
    "3. There are 500 shares remaining to fill. Other market participants notice that there is demand at $100$ USD / share, so they increase their sell price to 101 USD / share.\n",
    "4. Another sell order gets placed for 500 shares at 101 USD / share.\n",
    "5. The broker fills the remaining 500 shares of the original order at 101 USD / share. Closing out the process.\n",
    "\n",
    "As you can see, the large order for stock X was not immediately filled, and the demand pushed the market price against the original order, resulting in a fill price worse than expected. The opposite occurs for sell orders. In general, the larger the order, the more slippage will be experienced by a trade.\n",
    "\n",
    "#### Complications with Forecasting Slippage\n",
    "\n",
    "Modeling slippage is not trivial and is the subject of research by professional quantitative teams. There are different parameters and the behavior of slippage varies across markets and instruments. Things like the bid/ask spread will influence it. \n",
    "\n",
    "#### Why is this Important to Quantitative Strategies?\n",
    "\n",
    "Quantitative strategies often rely on finding small but consistent edges across many instruments in a market or multiple markets. If the amount of profit you expect to make off of each trade is very small, slippage can eat a significant amount of that profit. Quantitative strategies rely on executing orders as they have been defined, so anything that counteracts the orders can break the strategy.\n",
    "\n",
    "#### Where is Slippage Worst?\n",
    "\n",
    "Slippage is often worst on stocks with very little volume. Some egregious offenders are small and micro cap stocks. They are very low volume and develop large inefficiencies, but when you try to trade the inefficiencies you are unable to due to the lack of trades on the other side of the market. If you wait long enough you may be able to fill your order, but in that time you will suffer a lot of slippage."
   ]
  },
  {
   "cell_type": "markdown",
   "metadata": {
    "heading_collapsed": true,
    "hidden": true
   },
   "source": [
    "### Liquidity"
   ]
  },
  {
   "cell_type": "markdown",
   "metadata": {
    "hidden": true,
    "id": "78upWypwxz3z"
   },
   "source": [
    "#### What is Liquidity?\n",
    "Before we can define liquidity, we need to define a few key execution parameters. This is certainly not an exhaustive list of parameters that can decribe execution conditions, but they are the key ones for our purposes here.\n",
    "\n",
    "#### Execution Parameters\n",
    "* Trade Size $s$\n",
    "* Market Price $p_m$\n",
    "* Time to Fill $t$\n",
    "* Realized Fill Price $p_f$\n",
    "\n",
    "#### Defining Liquidity in Terms of Execution Feasibility\n",
    "Liquidity is a somewhat ambiguous term. There are different ways of defining it and therefore different ways of measuring it. In general it's the ability to execute large trades quickly without experiencing slippage. Another way to think about it is how easy it is to convert a held asset to cash quickly. Rather than having one precise definition, people often descibe liquidity according to their trading needs. For instance, if one regularly needs to execute trades of size $s$=100,000USD, and market $M_1$ can regularly support that with fills coming within $t$=1s and slippage or $p_f / p_m$ < 1.0001 (0.01% error), then we'd say that market $M$ is sufficiently liquid for one's purposes. On the other hand if another market $M_2$ can support trades of larger size, fill them in shorter time, or has consistently less slippage, then we would say that $M_2$ is *more* liquid.\n",
    "\n",
    "The takeaway is that liquidity depends on what you are trying to trade and how, and once you've established a benchmark you can compare it to other potential instruments, markets, brokers, or trading methods."
   ]
  },
  {
   "cell_type": "markdown",
   "metadata": {
    "hidden": true,
    "id": "gGvs3k68xz3z"
   },
   "source": [
    "#### Liquidity vs. Volume\n",
    "Liquidity and volume are not the same thing. Liquidity is the important property that affects how easily we can trade. Volume is a related but indirect proxy for liquidity. In general people use volume as one of the main ways to determine how liquid a trading environemnt will be. If there is high volume, it's likely you'll be able to execute a trade quickly and with minimal slippage. If you're a high percentage of the volume, then you're in trouble. In general the higher the volume, the lower your percentage and the better things will be.\n",
    "\n",
    "Although volume is central to liquidity, one can have cases of high volume with low liquidity.\n",
    "\n",
    "##### One-Sided Market\n",
    "A market may have high volume, but with a lot of demand in one direction. This can occur during a panic event in which case many people want to sell. This can result in large bid-ask spreads and, while trades may be closing, they will be closing at prices far away from what you would like (AKA high slippage). The high slippage indicates that this is an illiquid market. It is also more difficult to determine a fair market price when spreads and volatility are high. Momentum strategies can have higher slippage due to the fact that you're jumping into the same side of the market as everybody else.\n",
    "\n",
    "##### Non-Continuous Prices\n",
    "Sometimes there can be large block transactions occuring in a single instrument. Imagine that a large shareholder is trying to get rid of their stake in a company. Rather than selling it on the open market and exposing themselves to a massive amount of slippage, they trade it through other routes. There will still be a large amount of trading volume, but because it's not accessible to you, any trades you place will be exposed to the same illiquid conditions as without that volume."
   ]
  },
  {
   "cell_type": "markdown",
   "metadata": {
    "hidden": true,
    "id": "LEEiUwXCxz3z"
   },
   "source": [
    "#### Why is liquidity important?\n",
    "Why do we actually care about modeling, forecasting, and understanding liquidity?\n",
    "\n",
    "##### It's a bottleneck to trading any strategy.\n",
    "The final step of implementing any trading strategy is actually trading it. If you have statistically verified a mathematical model and it's pumping out target positions, that's not useful unless you can turn those positions into reality by trading in the market. Liquidity essentially defines your ability to move from current positions to desired future positions. With low liquidity you will not be able to execute on desired trades and there will be large infidelities between your model's requests and your real positions.\n",
    "\n",
    "##### There's no perfect case.\n",
    "You cannot completely eliminate liquidity concerns. Each instrument will have variable liquidity and there may be exogenous system shocks. As with any other quantity you can just model it and then try to trade instruments for which you expect good liquidity. Every strategy will have some liquidity drag during actual trading, but you can just try to make it as small as possible by avoiding instruments with high liquidity risk.\n",
    "\n",
    "##### Capital Base vs. Liquidity\n",
    "The more capital you trade, the harder it is to fill trades without experiencing slippage, so the more expensive your trading will be. In general all strategies have capital ranges in which they are profitable. The upper limit is defined by liquidity constraints. Once you become too large a part of the market the slippage will eat all your returns. The lower end is defined by broker comissions and position errors. If you're attempting to trade a small amount of capital, flat trading costs from your broker may exceed returns. Likewise, if you are trading 100,000USD and place 1% of your portfolio into a single stock, you will not be able to buy precisely 100USD worth of the stock. The lack of fractional shares will result in large portfolio infidelities from your desired positions. Because trading few instruments results in position concentration risk, trading small amounts of capital is often difficult."
   ]
  },
  {
   "cell_type": "markdown",
   "metadata": {
    "hidden": true,
    "id": "POtbb9rdxz3z"
   },
   "source": [
    "#### Backtesting and Liquidity\n",
    "The purpose of backtesting is not to determine whether a model has predictive power. That should all be done at the statistical analysis stage and is inefficient to do in a backtester, not to mention the overfitting risk.\n",
    "\n",
    "The purpose of backtesting is to check how robust a strategy is to real market frictions like illiquidity, slippage, and the resulting transaction costs. You can have highly predictive models that are simply not tradeable because the underlying instruments are not liquid enough.\n",
    "\n",
    "##### Backtest Under a Range of Liquidity Assumptions\n",
    "It pays to backtest under a few different liquidity assumptions. This tells you whether your strategy is robust, or whether it will fall apart the moment you change liquidity conditions at all."
   ]
  },
  {
   "cell_type": "markdown",
   "metadata": {
    "hidden": true,
    "id": "Kxjy-9r4xz3z"
   },
   "source": [
    "#### Liquidity Varies by Market, Instrument, and Broker\n",
    "In general different instruments will experience broadly different liquidity conditions."
   ]
  },
  {
   "cell_type": "markdown",
   "metadata": {
    "hidden": true,
    "id": "YRBrz6_fxz31"
   },
   "source": [
    "#### Broad Liquidity Considerations in Equities\n",
    "* Liquidity will vary by market cap. Higher cap stocks experience more absolute trading volume and are more liquid. Micro-cap stocks are \n",
    "* Some stocks are hard to borrow/short, and may experience one sided liquidity. Longs are easy to purchase, but shorts are hard to obtain. Quantopian does not currently provide hard to borrow data.\n",
    "\n",
    "#### Liquidity in Futures\n",
    "* Futures have much higher liquidity per instrument compared to equities.\n",
    "* Liquidity varies by type/class of future. Certain types of futures will be far less illiquid. We'll show an example here.\n",
    "* Liquidity has structure depending on expiration date. The volume of trading of a future contract will increase over time up to the expiration date. Far in advance there will be little volume as most people will be trading more current contracts. This volume effect must be considered when trying to trade futures. We'll show an example of this here."
   ]
  },
  {
   "cell_type": "markdown",
   "metadata": {
    "heading_collapsed": true,
    "hidden": true,
    "id": "QIs2bUT8xz3z"
   },
   "source": [
    "### Transaction Costs\n"
   ]
  },
  {
   "cell_type": "markdown",
   "metadata": {
    "hidden": true
   },
   "source": [
    "Whenever a trade is placed, you will pay a fee to the broker to trade. This fee can be based on trade size or just be flat, but is well defined and not an uncertain quantity. You will also experience slippage, which can be thought of as just another cost. Often both broker fees and slippage costs will be grouped under the term 'Transaction Costs', which describes generally how much it will cost to trade a specific strategy. If transaction costs eat too much of your profits a strategy might become infeasible.\n",
    "\n",
    "### Transaction Costs Vary by Broker and Market\n",
    "Because transaction costs vary based on trading environments, strategies that are inviable on a retail brokerage may be viable on an institutional prime brokerage with lower costs. Often quant strategies will fail on retail fees, but be fine for an institution. Just because you can't trade a strategy doesn't mean it's not valuable. You may be able to sell it to an organization that can trade it. When evaluating strategies for allocation Quantopian assumes trading conditions of a prime brokerage."
   ]
  },
  {
   "cell_type": "markdown",
   "metadata": {
    "hidden": true,
    "id": "BW6I4jP8xz34"
   },
   "source": [
    "### Market Impact "
   ]
  },
  {
   "cell_type": "markdown",
   "metadata": {
    "hidden": true,
    "id": "1C3x5bg3xz35"
   },
   "source": [
    "non of us have enough money for this\n",
    "but if you have, here you [go!](https://github.com/quantopian/research_public/blob/master/notebooks/lectures/Market_Impact_Model/notebook.ipynb)"
   ]
  },
  {
   "cell_type": "markdown",
   "metadata": {
    "heading_collapsed": true,
    "hidden": true
   },
   "source": [
    "## C. Libraries <a id=\"4\"></a>"
   ]
  },
  {
   "cell_type": "markdown",
   "metadata": {
    "hidden": true
   },
   "source": [
    "### Examples in Python"
   ]
  },
  {
   "cell_type": "markdown",
   "metadata": {
    "hidden": true
   },
   "source": [
    "- [FinmarketPY](https://github.com/cuemacro/finmarketpy)\n",
    "- [Backtesting.py](https://kernc.github.io/backtesting.py/)\n",
    "- [Backtester](https://pmorissette.github.io/bt/#)\n",
    "- [Backtrader](https://www.backtrader.com/docu/)\n",
    "- [Aquan](https://www.auquan.com/)"
   ]
  },
  {
   "cell_type": "markdown",
   "metadata": {
    "hidden": true
   },
   "source": [
    "### Examples of Providers"
   ]
  },
  {
   "cell_type": "markdown",
   "metadata": {
    "hidden": true
   },
   "source": [
    "- [Alpaca](https://alpaca.markets/)\n",
    "- TBD"
   ]
  },
  {
   "cell_type": "markdown",
   "metadata": {
    "hidden": true,
    "id": "4_cU6gY8xz38"
   },
   "source": [
    "--- \n",
    "---"
   ]
  },
  {
   "cell_type": "markdown",
   "metadata": {
    "heading_collapsed": true,
    "id": "wKNxp-oOxz38"
   },
   "source": [
    "# 2. Performance <a id=\"5\"></a>"
   ]
  },
  {
   "cell_type": "markdown",
   "metadata": {
    "heading_collapsed": true,
    "hidden": true
   },
   "source": [
    "## A. Alpha and Beta <a id=\"6\"></a>"
   ]
  },
  {
   "cell_type": "markdown",
   "metadata": {
    "hidden": true,
    "id": "06ZvGan1xz38"
   },
   "source": [
    "### How to compute $\\alpha$ and $\\beta$ for a given asset\n",
    "\n",
    "\n",
    "\n",
    "A fundamental concept in portfolio management and risk allocation is computing the $\\beta$ of an asset. $\\beta$ is a measurement of the covariance of the asset with the market in general, and is expressed in this model.\n",
    "\n",
    "$$r_a \\approx \\alpha + \\beta r_b$$\n",
    "\n",
    "$r_a$ are the returns of the asset, and $r_b$ are the returns of the benchmark, usually a proxy for the market like the S&P 500.\n",
    "\n",
    "$\\beta$ can be defined as\n",
    "\n",
    "$$\\beta = \\frac{Cov(r_a, r_b)}{Var(r_b)}$$\n",
    "\n",
    "To actually compute $\\beta$, we can use linear regression. We find the OLS best fit line for all points $(r_{a, t}, r_{b, t})$, where $r_{a, t}$ is the asset's returns for time $t$, and $r_{b, t}$ the same for the benchmark. The slope of this line is $\\beta$, and the y-intercept is $\\alpha$."
   ]
  },
  {
   "cell_type": "markdown",
   "metadata": {
    "hidden": true,
    "id": "AvRQbeO8xz38"
   },
   "source": [
    "We'll start by getting data for a specific time range."
   ]
  },
  {
   "cell_type": "code",
   "execution_count": 142,
   "metadata": {
    "hidden": true,
    "id": "tWJrYu0Fxz39"
   },
   "outputs": [
    {
     "name": "stdout",
     "output_type": "stream",
     "text": [
      "Processing data for stock: TSLA\n",
      "20% done...\n",
      "40% done...\n",
      "60% done...\n",
      "80% done...\n",
      "Processing data for stock: SPY\n",
      "20% done...\n",
      "40% done...\n",
      "60% done...\n",
      "80% done...\n"
     ]
    },
    {
     "data": {
      "image/png": "[encoded data removed]",
      "text/plain": [
       "<Figure size 432x288 with 1 Axes>"
      ]
     },
     "metadata": {
      "needs_background": "light"
     },
     "output_type": "display_data"
    },
    {
     "data": {
      "image/png": "[encoded data removed]",
      "text/plain": [
       "<Figure size 432x288 with 1 Axes>"
      ]
     },
     "metadata": {
      "needs_background": "light"
     },
     "output_type": "display_data"
    }
   ],
   "source": [
    "# Get data for the specified period and stocks\n",
    "startDateStr = '2018/01/01'\n",
    "endDateStr = '2020/01/01'\n",
    "cachedFolderName = '../data/'\n",
    "dataSetId = 'Data'\n",
    "instrumentIds = ['TSLA']\n",
    "ds = YahooStockDataSource(cachedFolderName=cachedFolderName,\n",
    "                            dataSetId=dataSetId,\n",
    "                            instrumentIds=instrumentIds,\n",
    "                            startDateStr=startDateStr,\n",
    "                            endDateStr=endDateStr,\n",
    "                            event='history')\n",
    "asset = ds.getBookDataByFeature()['adjClose']\n",
    "instrumentIds = ['SPY']\n",
    "ds = YahooStockDataSource(cachedFolderName=cachedFolderName,\n",
    "                            dataSetId=dataSetId,\n",
    "                            instrumentIds=instrumentIds,\n",
    "                            startDateStr=startDateStr,\n",
    "                            endDateStr=endDateStr,\n",
    "                            event='history')\n",
    "benchmark = ds.getBookDataByFeature()['adjClose']\n",
    "\n",
    "# We have to take the percent changes to get to returns\n",
    "# Get rid of the first (0th) element because it is NAN\n",
    "r_a = asset.pct_change()[1:]\n",
    "r_b = benchmark.pct_change()[1:]\n",
    "\n",
    "# Let's plot them just for fun\n",
    "r_a.plot()\n",
    "r_b.plot();"
   ]
  },
  {
   "cell_type": "markdown",
   "metadata": {
    "hidden": true,
    "id": "Nm7N33J1xz3-"
   },
   "source": [
    "Now we have to fit a line to the data to determine the slope. We use Ordinary Least Squares (OLS) for this."
   ]
  },
  {
   "cell_type": "code",
   "execution_count": 126,
   "metadata": {
    "hidden": true,
    "id": "KtHZ4ogCxz3-"
   },
   "outputs": [
    {
     "name": "stdout",
     "output_type": "stream",
     "text": [
      "alpha: 0.0004624828669990425\n",
      "beta: 1.3435024875755412\n"
     ]
    }
   ],
   "source": [
    "# Let's define everything in familiar regression terms\n",
    "X = r_b.values # Get just the values, ignore the timestamps\n",
    "Y = r_a.values\n",
    "\n",
    "# We add a constant so that we can also fit an intercept (alpha) to the model\n",
    "# This just adds a column of 1s to our data\n",
    "X = sm.add_constant(X)\n",
    "model = regression.linear_model.OLS(Y, X)\n",
    "model = model.fit()\n",
    "# Remove the constant now that we're done\n",
    "X = X[:, 1]\n",
    "alpha = model.params[0]\n",
    "beta = model.params[1]\n",
    "print ('alpha: ' + str(alpha))\n",
    "print ('beta: ' + str(beta))"
   ]
  },
  {
   "cell_type": "markdown",
   "metadata": {
    "hidden": true,
    "id": "1ZuLKHUAxz3_"
   },
   "source": [
    "We can plot the line of best fit to visualize this."
   ]
  },
  {
   "cell_type": "code",
   "execution_count": 127,
   "metadata": {
    "hidden": true,
    "id": "Vdlrh_hoxz3_"
   },
   "outputs": [
    {
     "data": {
      "image/png": "[encoded data removed]",
      "text/plain": [
       "<Figure size 432x288 with 1 Axes>"
      ]
     },
     "metadata": {
      "needs_background": "light"
     },
     "output_type": "display_data"
    }
   ],
   "source": [
    "X2 = np.linspace(X.min(), X.max(), 100)\n",
    "Y_hat = X2 * beta + alpha\n",
    "\n",
    "plt.scatter(X, Y, alpha=0.3) # Plot the raw data\n",
    "plt.xlabel(\"r_b\")\n",
    "plt.ylabel(\"r_a\")\n",
    "\n",
    "# Add the regression line, colored in red\n",
    "plt.plot(X2, Y_hat, 'r', alpha=0.9);"
   ]
  },
  {
   "cell_type": "markdown",
   "metadata": {
    "hidden": true,
    "id": "48cvH63pxz4A"
   },
   "source": [
    "### How to compute the volatility for a given asset\n",
    "\n",
    "The volatility $\\sigma$ of an asset is the standard deviation of its returns. A low volatility means that the returns are generally close to the mean, while a high volatility corresponds to returns that are often much higher and often much lower than expected.\n",
    "\n",
    "We'll go ahead and continue using the stock from before:"
   ]
  },
  {
   "cell_type": "code",
   "execution_count": 130,
   "metadata": {
    "hidden": true,
    "id": "tY7qO2utxz4A"
   },
   "outputs": [
    {
     "name": "stdout",
     "output_type": "stream",
     "text": [
      "0.03404241156172159\n",
      "0.009418714869361309\n"
     ]
    }
   ],
   "source": [
    "# Use numpy to find the standard deviation of the returns\n",
    "SD = np.std(Y)\n",
    "print (SD)\n",
    "\n",
    "# Let's compute the volatility for our benchmark, as well\n",
    "benchSD = np.std(X)\n",
    "print (benchSD)"
   ]
  },
  {
   "cell_type": "markdown",
   "metadata": {
    "hidden": true,
    "id": "dLy5XaCIxz4B"
   },
   "source": [
    "This gives the daily volatility. As expected, the benchmark has a much lower volatility than the stock - a volatile asset would not make a good benchmark.\n",
    "\n",
    "We generally compute the annualized volatility so that we can compare volatilities for daily, weekly, or monthly samples. To get it we normalize the standard deviation of the daily returns by multiplying by the square root of the number of trading days in a year:\n",
    "\n",
    "$$\\sigma_{\\text{annual}} = SD \\cdot \\sqrt{252}$$"
   ]
  },
  {
   "cell_type": "code",
   "execution_count": 132,
   "metadata": {
    "hidden": true,
    "id": "TnGbxHn8xz4B"
   },
   "outputs": [
    {
     "name": "stdout",
     "output_type": "stream",
     "text": [
      "0.5404065301273516\n",
      "0.14951746328493742\n"
     ]
    }
   ],
   "source": [
    "vol = SD*(252**.5)\n",
    "print (vol)\n",
    "\n",
    "benchvol = benchSD*(252**.5)\n",
    "print (benchvol)"
   ]
  },
  {
   "cell_type": "markdown",
   "metadata": {
    "hidden": true,
    "id": "2iE7p5uNxz4C"
   },
   "source": [
    "This tells us that we should expect the returns of a benchmark to cluster more closely around their mean than those of the stock. We can plot histograms of the returns to see this:"
   ]
  },
  {
   "cell_type": "code",
   "execution_count": 135,
   "metadata": {
    "hidden": true,
    "id": "Hg3AdGzMxz4C"
   },
   "outputs": [
    {
     "data": {
      "image/png": "[encoded data removed]",
      "text/plain": [
       "<Figure size 432x288 with 1 Axes>"
      ]
     },
     "metadata": {
      "needs_background": "light"
     },
     "output_type": "display_data"
    }
   ],
   "source": [
    "# Since we have many distinct values, we'll lump them into buckets of size .02\n",
    "x_min = int(math.floor(X.min()))\n",
    "x_max = int(math.ceil(X.max()))\n",
    "plt.hist(X, bins=[0.02*i for i in range(x_min*50, x_max*50)], alpha=0.5, label='S&P')\n",
    "plt.hist(Y, bins=[0.02*i for i in range(x_min*50, x_max*50)], alpha=0.5, label='Stock')\n",
    "plt.legend(loc='upper right');"
   ]
  },
  {
   "cell_type": "markdown",
   "metadata": {
    "hidden": true,
    "id": "3RDy2rT9xz4D"
   },
   "source": [
    "### How to compute the Sharpe and information ratios for an asset\n",
    "\n",
    "The Sharpe and information ratios are used to calculate how well the historic returns of an asset compensate for its risk, relative to some benchmark or risk-free asset. An asset with a higher ratio has either higher returns, lower risk, or both. As when computing volatility, the standard deviation of the returns is used to measure risk.\n",
    "\n",
    "$$R = \\frac{E[r_a - r_b]}{\\sqrt{Var(r_a - r_b)}}$$\n",
    "\n",
    "$r_a$ are the returns of the asset, and $r_b$ are the returns of the benchmark; generally, Treasury bills are used when computing the Sharpe ratio, while the S&P 500 index is commonly used for the information ratio. We subtract the returns of the benchmark from the returns of the asset becasue we would like to get higher returns through our investment than we would, say, simply buying Treasury bills."
   ]
  },
  {
   "cell_type": "code",
   "execution_count": 138,
   "metadata": {
    "hidden": true,
    "id": "jM21o6rAxz4D"
   },
   "outputs": [
    {
     "name": "stdout",
     "output_type": "stream",
     "text": [
      "Processing data for stock: BIL\n",
      "20% done...\n",
      "40% done...\n",
      "60% done...\n",
      "80% done...\n",
      "Sharpe ratio: 0.030291090239406283\n",
      "Information ratio: 0.017747256849180597\n"
     ]
    }
   ],
   "source": [
    "# Get the returns for a treasury-tracking ETF to be used in the Sharpe ratio\n",
    "# Note that BIL is only being used in place of risk free rate,\n",
    "# and should not be used in such a fashion for strategy development\n",
    "\n",
    "instrumentIds = ['BIL']\n",
    "ds = YahooStockDataSource(cachedFolderName=cachedFolderName,\n",
    "                            dataSetId=dataSetId,\n",
    "                            instrumentIds=instrumentIds,\n",
    "                            startDateStr=startDateStr,\n",
    "                            endDateStr=endDateStr,\n",
    "                            event='history')\n",
    "riskfree = ds.getBookDataByFeature()['adjClose']\n",
    "\n",
    "r_b_S = riskfree.pct_change()[1:]\n",
    "X_S = r_b_S.values\n",
    "\n",
    "# Compute the Sharpe ratio for the asset we've been working with\n",
    "SR = np.mean(Y - X_S)/np.std(Y - X_S)\n",
    "\n",
    "# Compute the information ratio for the asset we've been working with, using the S&P index\n",
    "IR = np.mean(Y - X)/np.std(Y - X)\n",
    "\n",
    "# Print results\n",
    "print ('Sharpe ratio: ' + str(SR))\n",
    "print ('Information ratio: ' + str(IR))"
   ]
  },
  {
   "cell_type": "markdown",
   "metadata": {
    "hidden": true,
    "id": "t5eHrnPzxz4E"
   },
   "source": [
    "### How to compute the Sortino ratio for an asset\n",
    "\n",
    "The Sharpe and information ratios are useful, but they penalize stocks for going above the expected return as well as for going below it. The Sortino ratio is modified to take into account only returns that fall below the mean.\n",
    "\n",
    "$$S = \\frac{E[r_a - r_b]}{\\sqrt{Semivar(r_a - r_b)}}$$\n",
    "\n",
    "The semivariance is the variance below the mean, and so quantifies the downside risk of our asset. Here as in the Sharpe ratio returns on Treasury bills can be used for $r_b$. The more skewed the distribution of returns is, the more the Sortino ratio will differ from the Sharpe ratio."
   ]
  },
  {
   "cell_type": "code",
   "execution_count": 140,
   "metadata": {
    "hidden": true,
    "id": "4j_KzVwTxz4E"
   },
   "outputs": [
    {
     "name": "stdout",
     "output_type": "stream",
     "text": [
      "Sortino ratio: 0.03174814792333494\n"
     ]
    }
   ],
   "source": [
    "# To compute the semideviation, we want to filter out values which fall above the mean\n",
    "meandif = np.mean(Y - X_S)\n",
    "lows = [e for e in Y - X_S if e <= meandif]\n",
    "\n",
    "# Because there is no built-in semideviation, we'll compute it ourselves\n",
    "def dist(x):\n",
    "    return (x - meandif)**2\n",
    "semidev = math.sqrt(sum(map(dist,lows))/len(lows))\n",
    "\n",
    "Sortino = meandif/semidev\n",
    "print ('Sortino ratio: ' + str(Sortino))"
   ]
  },
  {
   "cell_type": "markdown",
   "metadata": {
    "hidden": true,
    "id": "d5HuNW1Sxz4F"
   },
   "source": [
    "--- \n",
    "---"
   ]
  },
  {
   "cell_type": "markdown",
   "metadata": {
    "heading_collapsed": true,
    "hidden": true
   },
   "source": [
    "## B. Portfolio Overview <a id=\"7\"></a>"
   ]
  },
  {
   "cell_type": "markdown",
   "metadata": {
    "hidden": true,
    "id": "vGf0gpjNxz4l"
   },
   "source": [
    "### Portfolio Analysis with Pyfolio\n",
    "\n",
    "\n",
    "In professional quant workflows, it is critical to demonstrate the efficacy of any portfolio through rigorous testing. This is fundamental to understanding the risk profile as well as the performance of the portfolio. As such, quants and developers often have to build in-house tools to measure these metrics. To this end, we have created a package called pyfolio. pyfolio is a Python library for performance and risk analysis of financial portfolios, available on github [here](https://github.com/quantopian/pyfolio). It allows us to easily generate tear sheets to analyze the risk and performance of trading algorithms as well as return streams in general. \n",
    "    \n",
    "\n",
    "#### Issues with Backtesting\n",
    "\n",
    "It is often tempting to run many backtests while building an algorithm. A common pitfall is to use the success of backtests as a feedback metric to fine-tune an algorithm's parameters or features while still in the construction phase. This leads to the overfitting of the strategy to whichever time periods the user ran the backtests on. Ultimately, this results in poor performance when deployed out of sample in live trading.\n",
    "\n",
    "As such, running backtests and generating tearsheets should only occur at the tail end of the algorithm creation lifecycle. We then get a picture of the algorithm's performance, aiding the user in deciding whether to move forward with the deployment of the algorithm or to switch to another strategy.\n",
    "\n",
    "There are two main parts to a full pyfolio tearsheet. First, there are the performance statistics in table format. Useful metrics such as the annual return, market beta, and Sharpe ratio are all listed in this table. These metrics not only represent how well the strategy has performed during the time period of the backtest (annual rate of return), they also show the risk-adjusted return as measured by the different ratios. We will go into more detail about the meaning of these metrics. \n",
    "\n",
    "Next, there are plots which help to visualize a variety of the performance metrics. For instance, the user can use the drawdown plots to quickly pinpoint the time periods in which the strategy performed the worst. In addition, it will help the user to see if the strategy is performing as it should - if a strategy is market neutral, but suffers significant drawdowns during crisis periods, then there are clearly issues with the strategy's design or implementation."
   ]
  },
  {
   "cell_type": "markdown",
   "metadata": {
    "hidden": true,
    "id": "qJQ26qCoxz4l"
   },
   "source": [
    "### Setup - Getting a Backtest into the Research Environment"
   ]
  },
  {
   "cell_type": "markdown",
   "metadata": {
    "collapsed": true,
    "hidden": true,
    "id": "jx_lmC9Vxz4l"
   },
   "source": [
    "First, we import a backtest into the research envrionment. In this lecture, we will use the backtest from [this forum post](https://www.quantopian.com/posts/how-to-get-an-allocation-writing-an-algorithm-for-the-quantopian-investment-management-team)."
   ]
  },
  {
   "cell_type": "code",
   "execution_count": 88,
   "metadata": {
    "hidden": true,
    "id": "KRJSaHj_xz4m"
   },
   "outputs": [],
   "source": [
    "import pyfolio as pf\n",
    "import empyrical"
   ]
  },
  {
   "cell_type": "code",
   "execution_count": 89,
   "metadata": {
    "hidden": true
   },
   "outputs": [
    {
     "data": {
      "text/html": [
       "<div>\n",
       "<style scoped>\n",
       "    .dataframe tbody tr th:only-of-type {\n",
       "        vertical-align: middle;\n",
       "    }\n",
       "\n",
       "    .dataframe tbody tr th {\n",
       "        vertical-align: top;\n",
       "    }\n",
       "\n",
       "    .dataframe thead th {\n",
       "        text-align: right;\n",
       "    }\n",
       "</style>\n",
       "<table border=\"1\" class=\"dataframe\">\n",
       "  <thead>\n",
       "    <tr style=\"text-align: right;\">\n",
       "      <th></th>\n",
       "      <th>MyPortfolio</th>\n",
       "      <th>YourPortfolio</th>\n",
       "    </tr>\n",
       "  </thead>\n",
       "  <tbody>\n",
       "    <tr>\n",
       "      <th>2017-01-02</th>\n",
       "      <td>102.053214</td>\n",
       "      <td>100.048323</td>\n",
       "    </tr>\n",
       "    <tr>\n",
       "      <th>2017-01-03</th>\n",
       "      <td>101.318095</td>\n",
       "      <td>99.590393</td>\n",
       "    </tr>\n",
       "    <tr>\n",
       "      <th>2017-01-04</th>\n",
       "      <td>100.693312</td>\n",
       "      <td>99.851232</td>\n",
       "    </tr>\n",
       "    <tr>\n",
       "      <th>2017-01-05</th>\n",
       "      <td>99.391960</td>\n",
       "      <td>99.750658</td>\n",
       "    </tr>\n",
       "    <tr>\n",
       "      <th>2017-01-06</th>\n",
       "      <td>100.497067</td>\n",
       "      <td>99.807467</td>\n",
       "    </tr>\n",
       "  </tbody>\n",
       "</table>\n",
       "</div>"
      ],
      "text/plain": [
       "            MyPortfolio  YourPortfolio\n",
       "2017-01-02   102.053214     100.048323\n",
       "2017-01-03   101.318095      99.590393\n",
       "2017-01-04   100.693312      99.851232\n",
       "2017-01-05    99.391960      99.750658\n",
       "2017-01-06   100.497067      99.807467"
      ]
     },
     "execution_count": 89,
     "metadata": {},
     "output_type": "execute_result"
    },
    {
     "data": {
      "image/png": "[encoded data removed]",
      "text/plain": [
       "<Figure size 432x288 with 1 Axes>"
      ]
     },
     "metadata": {
      "needs_background": "light"
     },
     "output_type": "display_data"
    }
   ],
   "source": [
    "#Random Data\n",
    "names = ['MyPortfolio','YourPortfolio']\n",
    "dates = pd.date_range(start='2017-01-01',end='2017-12-31', freq=pd.tseries.offsets.BDay())\n",
    "n = len(dates)\n",
    "rdf = pd.DataFrame(\n",
    "    np.zeros((n, len(names))),\n",
    "    index = dates,\n",
    "    columns = names\n",
    ")\n",
    "\n",
    "np.random.seed(1)\n",
    "rdf['MyPortfolio'] = np.random.normal(loc = 0.1/n,scale=0.2/np.sqrt(n),size=n)\n",
    "rdf['YourPortfolio'] = np.random.normal(loc = 0.04/n,scale=0.05/np.sqrt(n),size=n)\n",
    "\n",
    "pdf = 100*np.cumprod(1+rdf)\n",
    "pdf.plot()\n",
    "pdf.head()"
   ]
  },
  {
   "cell_type": "markdown",
   "metadata": {
    "hidden": true,
    "id": "OC--KbTMxz4o"
   },
   "source": [
    "Now, we want to understand the returns, positions and transactions of the trading algorithm over our backtest's time period. We can get these data points from `backtest` object attributes."
   ]
  },
  {
   "cell_type": "code",
   "execution_count": 119,
   "metadata": {
    "hidden": true
   },
   "outputs": [],
   "source": [
    "import bt"
   ]
  },
  {
   "cell_type": "code",
   "execution_count": 103,
   "metadata": {
    "hidden": true,
    "id": "vbCG4Y2Bxz4o"
   },
   "outputs": [],
   "source": [
    "bt_returns = rdf['MyPortfolio']\n",
    "benchmark_rets = rdf['YourPortfolio']"
   ]
  },
  {
   "cell_type": "markdown",
   "metadata": {
    "hidden": true,
    "id": "1BvGTjNUxz4o"
   },
   "source": [
    "Now, we are ready to use pyfolio to dive into the different performance metrics and plots of our algorithm. Throughout the course of this lecture we will detail how to interpret the various individual plots generated by an pyfolio tear sheet and include the proper call to generate the whole tear sheet at once at the end. This function is built into our backtest object, removing the need to write out all the code in the long form presented here."
   ]
  },
  {
   "cell_type": "markdown",
   "metadata": {
    "hidden": true,
    "id": "Cll_rwpVxz4p"
   },
   "source": [
    "### Performance Statistics\n",
    "\n",
    "With pyfolio, there is a wealth of performance statistics which most professional fund managers would use to analyze the performance of the algorithm. These metrics range from the algorithm's annual and monthly returns, return quantiles, rolling beta and sharpe ratios to the turnover of the portfolio. The most critical metrics are discussed as follows."
   ]
  },
  {
   "cell_type": "markdown",
   "metadata": {
    "hidden": true,
    "id": "6u_bbxy7xz4p"
   },
   "source": [
    "#### Risk-Adjusted Return\n",
    "\n",
    "The risk-adjusted return is an essential metric of any strategy. Risk-adjusted returns allow us to judge returns streams that have different individual volatilities by providing an avenue for meaningful comparison. There are different measures of risk-adjusted returns but one of the most popular is the Sharpe ratio. In this particular backtest, the annual return of $2\\%$ for $1\\%$ volatility is an example of a relatively low absolute return, but a relatively high risk-adjusted return. Then, with a low risk strategy, leverage can then be applied to increase the absolute return."
   ]
  },
  {
   "cell_type": "code",
   "execution_count": 99,
   "metadata": {
    "hidden": true,
    "id": "0l_5gfZWxz4p"
   },
   "outputs": [
    {
     "name": "stdout",
     "output_type": "stream",
     "text": [
      "The Sharpe Ratio of the backtest is:  1.727096387237381\n"
     ]
    }
   ],
   "source": [
    "print (\"The Sharpe Ratio of the backtest is: \", empyrical.sharpe_ratio(bt_returns))"
   ]
  },
  {
   "cell_type": "markdown",
   "metadata": {
    "collapsed": true,
    "hidden": true,
    "id": "Ek2K3UqWxz4q"
   },
   "source": [
    "#### Market Beta\n",
    "\n",
    "The market beta of an algorithm is the exposure of that stategy to the broader market. For instance, a market beta of $1$ would mean that you're buying the the market, while a beta of $-1$ means that you are shorting the market. Any beta within this range signifies reduced market influence, while any beta outside this range signifies increased market influence. "
   ]
  },
  {
   "cell_type": "code",
   "execution_count": 107,
   "metadata": {
    "hidden": true,
    "id": "BBTySvehxz4q"
   },
   "outputs": [
    {
     "name": "stdout",
     "output_type": "stream",
     "text": [
      "The market beta of the backtest is:  -0.34280839725608003\n"
     ]
    }
   ],
   "source": [
    "print (\"The market beta of the backtest is: \", empyrical.beta(bt_returns,benchmark_rets))"
   ]
  },
  {
   "cell_type": "markdown",
   "metadata": {
    "hidden": true,
    "id": "hiIPkz5Jxz4r"
   },
   "source": [
    "In the case of this strategy, the beta is 0. This means that this strategy has no exposure to the broader market, it is *market neutral*. To institutional investors, market neutral strategies are very attractive. After all, if the investors want a strategy which is highly exposed to the market, they could simply buy an ETF or an index fund."
   ]
  },
  {
   "cell_type": "markdown",
   "metadata": {
    "hidden": true,
    "id": "gSFCc-mExz4r"
   },
   "source": [
    "#### Drawdowns\n",
    "\n",
    "A drawdown is the 'peak to trough decline' of an investment strategy. Intuitively speaking, it refers to the losses the strategy has experienced from the base amount of capital which it had at the peak. For instance, in the 2008 Financial Crisis, the market drawdown was over 50% from the peak in 2007 to the trough in 2009."
   ]
  },
  {
   "cell_type": "code",
   "execution_count": 108,
   "metadata": {
    "hidden": true,
    "id": "070sRgTOxz4r"
   },
   "outputs": [
    {
     "name": "stdout",
     "output_type": "stream",
     "text": [
      "The maxmimum drawdown of the backtest is:  -0.10219029491593909\n"
     ]
    }
   ],
   "source": [
    "print (\"The maxmimum drawdown of the backtest is: \", empyrical.max_drawdown(bt_returns))"
   ]
  },
  {
   "cell_type": "markdown",
   "metadata": {
    "hidden": true,
    "id": "WRoWcHRZxz4s"
   },
   "source": [
    "This is another measure of the financial risk of an algorithm. If the net drawdown of a strategy is very significant, this generally means that the volatility of the algorithm is more significant. Good strategies try to limit drawdowns. A good benchmark is to have a maximum drawdown of less than 20%."
   ]
  },
  {
   "cell_type": "markdown",
   "metadata": {
    "hidden": true,
    "id": "eLsUwUvyxz4s"
   },
   "source": [
    "### Plotting\n",
    "\n",
    "In pyfolio, there is a `plotting` module which allows users to quickly plot these metrics. These plots can be individually plotted using the following functions:\n",
    "\n",
    "- `plot_annual_returns`\n",
    "- `plot_daily_returns_similarity`\n",
    "- `plot_daily_volume`\n",
    "- `plot_drawdown_periods`\n",
    "- `plot_drawdown_underwater`\n",
    "- `plot_exposures`\n",
    "- `plot_gross_leverage`\n",
    "- `plot_holdings`\n",
    "- `plot_long_short_holdings`\n",
    "- `plot_monthly_returns_dist`\n",
    "- `plot_monthly_returns_heatmap`\n",
    "- `plot_multistrike_cones`\n",
    "- `plot_prob_profit_trade`\n",
    "- `plot_return_quantiles`\n",
    "- `plot_rolling_beta`\n",
    "- `plot_rolling_returns`\n",
    "- `plot_rolling_sharpe`\n",
    "- `plot_turnover`\n",
    "- `plot_txn_time_hist`\n",
    "- `show_and_plot_top_positions`"
   ]
  },
  {
   "cell_type": "markdown",
   "metadata": {
    "hidden": true,
    "id": "Y8--U1eOxz4s"
   },
   "source": [
    "#### Returns Plots\n",
    "\n",
    "Plots of cumulative returns and daily, non-cumulative returns allow you to gain a quick overview of the algorithm's performance and pick out any anomalies across the time period of the backtest. The cumulative return plot also allows you to make a comparison against benchmark returns - this could be against another investment strategy or an index like the S&P 500."
   ]
  },
  {
   "cell_type": "code",
   "execution_count": 109,
   "metadata": {
    "hidden": true,
    "id": "XKYs6SgAxz4s"
   },
   "outputs": [
    {
     "data": {
      "image/png": "[encoded data removed]",
      "text/plain": [
       "<Figure size 432x288 with 2 Axes>"
      ]
     },
     "metadata": {
      "needs_background": "light"
     },
     "output_type": "display_data"
    }
   ],
   "source": [
    "# Cumulative Returns\n",
    "plt.subplot(2,1,1)\n",
    "pf.plotting.plot_rolling_returns(bt_returns, benchmark_rets)\n",
    "\n",
    "# Daily, Non-Cumulative Returns\n",
    "plt.subplot(2,1,2)\n",
    "pf.plotting.plot_returns(bt_returns)\n",
    "plt.tight_layout()"
   ]
  },
  {
   "cell_type": "markdown",
   "metadata": {
    "hidden": true,
    "id": "2rqLtNFHxz4t"
   },
   "source": [
    "With the annual and monthly return plots, you can see which years and months the algorithm performed the best in. For instance, in the monthly heatmap plot, this algorithm performed the best in June 2014 (shaded in dark green). In a backtest with a longer period of time, these plots will reveal more information. Furthermore, the distribution of the monthly returns is also instructive in gauging how the algorithm performs in different periods throughout the year and if it is affected by seasonal patterns."
   ]
  },
  {
   "cell_type": "code",
   "execution_count": 110,
   "metadata": {
    "hidden": true,
    "id": "123DKClexz4t"
   },
   "outputs": [
    {
     "data": {
      "image/png": "[encoded data removed]",
      "text/plain": [
       "<Figure size 1080x360 with 3 Axes>"
      ]
     },
     "metadata": {
      "needs_background": "light"
     },
     "output_type": "display_data"
    }
   ],
   "source": [
    "fig = plt.figure(1)\n",
    "plt.subplot(1,3,1)\n",
    "pf.plot_annual_returns(bt_returns)\n",
    "plt.subplot(1,3,2)\n",
    "pf.plot_monthly_returns_dist(bt_returns)\n",
    "plt.subplot(1,3,3)\n",
    "pf.plot_monthly_returns_heatmap(bt_returns)\n",
    "plt.tight_layout()\n",
    "fig.set_size_inches(15,5)"
   ]
  },
  {
   "cell_type": "markdown",
   "metadata": {
    "hidden": true,
    "id": "51sRwjaKxz4u"
   },
   "source": [
    "#### Return Quantiles\n",
    "\n",
    "These box and whisker plots provide an overview of the return quantiles broken down by the return timeframe (daily / weekly / monthly) across the entire backtest time period."
   ]
  },
  {
   "cell_type": "code",
   "execution_count": 111,
   "metadata": {
    "hidden": true,
    "id": "lr3BxDSSxz4u"
   },
   "outputs": [
    {
     "data": {
      "image/png": "[encoded data removed]",
      "text/plain": [
       "<Figure size 432x288 with 1 Axes>"
      ]
     },
     "metadata": {
      "needs_background": "light"
     },
     "output_type": "display_data"
    }
   ],
   "source": [
    "pf.plot_return_quantiles(bt_returns);"
   ]
  },
  {
   "cell_type": "markdown",
   "metadata": {
    "hidden": true,
    "id": "N0CSHgHAxz4v"
   },
   "source": [
    "The center line in the middle of each box shows the median return, and the box shows the first quartile (25th percentile) as well as the 3rd quartile (75th percentile). While a high median return is always helpful, it is also important to understand the returns distribution. A tight box means that the bulk of the returns (25th - 75th percentile) fall within a tight bound - i.e. the returns are consistent and not volatile. A larger box means that the returns are more spread out. It is important, however, to take note of the scale to the left to put the quartiles in perspective. In addition, returns over longer periods of time will have a wider distribution as increasing the length of time increases the variability in returns. \n",
    "\n",
    "The 'whiskers' at the end indicate the returns which fall outside the 25th and 75th percentile. A tight box with long whiskers indicate that there may be outliers in the returns - which may not be ideal if the outliers are negative. This may indicate that your strategy may be susceptible to certain market conditions / time periods. "
   ]
  },
  {
   "cell_type": "markdown",
   "metadata": {
    "hidden": true,
    "id": "_tGV2ubbxz4v"
   },
   "source": [
    "#### Rolling Plots\n",
    "\n",
    "Below, we have several rolling plots which show how an estimate changes throughout backtest period. In the case of the rolling beta and the rolling Sharpe ratio, the rolling estimate gives us more information than single point estimate for the entire period. A rolling estimate allows the user to see if the risk-adjusted return of the algorithm (Sharpe ratio) is consistent over time or if it fluctuates significantly. A volatile Sharpe ratio may indicate that the strategy may be riskier at certain time points or that it does not perform as well at these time points. Likewise, a volatile rolling beta indicates that it is exposed to the market during certain time points - if the strategy is meant to be market neutral, this could be a red flag."
   ]
  },
  {
   "cell_type": "markdown",
   "metadata": {
    "hidden": true,
    "id": "pd3U5Q5-xz4v"
   },
   "source": [
    "#### Rolling Beta Plot\n",
    "\n",
    "The plot below shows the rolling beta of the strategy against benchmark returns over the entire period of the backtest. In this instance, the benchmark return of the SPY was used. Thus, the lower the rolling portfolio beta to the SPY, the more market neutral an algorithm is."
   ]
  },
  {
   "cell_type": "code",
   "execution_count": 112,
   "metadata": {
    "hidden": true,
    "id": "XmfW5h8Bxz4w"
   },
   "outputs": [
    {
     "data": {
      "image/png": "[encoded data removed]",
      "text/plain": [
       "<Figure size 432x288 with 1 Axes>"
      ]
     },
     "metadata": {
      "needs_background": "light"
     },
     "output_type": "display_data"
    }
   ],
   "source": [
    "pf.plot_rolling_beta(bt_returns, benchmark_rets);"
   ]
  },
  {
   "cell_type": "markdown",
   "metadata": {
    "hidden": true,
    "id": "iBjATcZnxz4w"
   },
   "source": [
    "#### Rolling Sharpe Ratio Plot\n",
    "\n",
    "The plot below shows the rolling Sharpe ratio over the period of the backtest. This allows you to understand the performance of the algorithm at different time points."
   ]
  },
  {
   "cell_type": "code",
   "execution_count": 113,
   "metadata": {
    "hidden": true,
    "id": "FDZqbIYKxz4x"
   },
   "outputs": [
    {
     "data": {
      "image/png": "[encoded data removed]",
      "text/plain": [
       "<Figure size 432x288 with 1 Axes>"
      ]
     },
     "metadata": {
      "needs_background": "light"
     },
     "output_type": "display_data"
    }
   ],
   "source": [
    "pf.plot_rolling_sharpe(bt_returns);"
   ]
  },
  {
   "cell_type": "markdown",
   "metadata": {
    "hidden": true,
    "id": "QqYTpk-2xz4x"
   },
   "source": [
    "In the case of this strategy, the Sharpe ratio is above 2 for the first 4 months before dropping toward the end of the year. It would be helpful here to check if this algorithm is exposed to other risk factors. This may help to explain the end of year slump. In addition, it would be helpful to understand the market situation at that point in time to see if the strategy was in some way affected by market events."
   ]
  },
  {
   "cell_type": "markdown",
   "metadata": {
    "collapsed": true,
    "hidden": true,
    "id": "fN6yFRo_xz4y"
   },
   "source": [
    "#### Drawdown Plots\n",
    "\n",
    "In this plot, we visualize the drawdown chart described above. This chart provides an overview of the worst drawdown periods in the backtest. These periods show the time windows in the backtest in which the top 5 drawdowns occurred. "
   ]
  },
  {
   "cell_type": "code",
   "execution_count": 117,
   "metadata": {
    "hidden": true,
    "id": "33t3qbw0xz4z"
   },
   "outputs": [
    {
     "data": {
      "image/png": "[encoded data removed]",
      "text/plain": [
       "<Figure size 432x288 with 1 Axes>"
      ]
     },
     "metadata": {
      "needs_background": "light"
     },
     "output_type": "display_data"
    }
   ],
   "source": [
    "pf.plot_drawdown_underwater(bt_returns);"
   ]
  },
  {
   "cell_type": "markdown",
   "metadata": {
    "hidden": true,
    "id": "u7UpbekLxz49"
   },
   "source": [
    "#### Creating a Full Tear Sheet\n",
    "\n",
    "To put these all together, we use a single function call to `bt.create_full_tear_sheet`.\n",
    "\n",
    "```j\n",
    "pf.create_returns_tear_sheet(rdf['MyPortfolio'])\n",
    "```"
   ]
  },
  {
   "cell_type": "markdown",
   "metadata": {
    "hidden": true,
    "id": "cfaW3ksZxz49"
   },
   "source": [
    "---"
   ]
  },
  {
   "cell_type": "markdown",
   "metadata": {
    "heading_collapsed": true,
    "hidden": true,
    "id": "uD--fwKixz4G"
   },
   "source": [
    "## C. Beta Hedging <a id=\"8\"></a>"
   ]
  },
  {
   "cell_type": "markdown",
   "metadata": {
    "hidden": true
   },
   "source": [
    "\n",
    "\n",
    "### Factor Models\n",
    "\n",
    "Factor models are a way of explaining the returns of one asset via a linear combination of the returns of other assets. The general form of a factor model is\n",
    "\n",
    "$$Y = \\alpha + \\beta_1 X_1 + \\beta_2 X_2 + \\dots + \\beta_n X_n$$\n",
    "\n",
    "This looks familiar, as it is exactly the model type that a linear regression fits. The $X$'s can also be indicators rather than assets. An example might be a analyst estimation.\n",
    "\n",
    "### What is Beta?\n",
    "\n",
    "An asset's beta to another asset is just the $\\beta$ from the above model. For instance, if we regressed TSLA against the S&P 500 using the model $Y_{TSLA} = \\alpha + \\beta X$, then TSLA's beta exposure to the S&P 500 would be that beta. If we used the model $Y_{TSLA} = \\alpha + \\beta X_{SPY} + \\beta X_{AAPL}$, then we now have two betas, one is TSLA's exposure to the S&P 500 and one is TSLA's exposure to AAPL.\n",
    "\n",
    "Often \"beta\" will refer to a stock's beta exposure to the S&P 500. We will use it to mean that unless otherwise specified."
   ]
  },
  {
   "cell_type": "markdown",
   "metadata": {
    "heading_collapsed": true,
    "hidden": true,
    "id": "2mcfAsIrxz4J"
   },
   "source": [
    "### Risk Exposure\n",
    "\n",
    "More generally, this beta gets at the concept of how much risk exposure you take on by holding an asset. If an asset has a high beta exposure to the S&P 500, then while it will do very well while the market is rising, it will do very poorly when the market falls. A high beta corresponds to high speculative risk. You are taking out a more volatile bet.\n",
    "\n",
    "At Quantopian, we value stratgies that have negligible beta exposure to as many factors as possible. What this means is that all of the returns in a strategy lie in the $\\alpha$ portion of the model, and are independent of other factors. This is highly desirable, as it means that the strategy is agnostic to market conditions. It will make money equally well in a crash as it will during a bull market. These strategies are the most attractive to individuals with huge cash pools such as endowments and soverign wealth funds.\n",
    "\n",
    "### Risk Management\n",
    "\n",
    "The process of reducing exposure to other factors is known as risk management. Hedging is one of the best ways to perform risk management in practice.\n",
    "\n",
    "#### Hedging\n",
    "\n",
    "If we determine that our portfolio's returns are dependent on the market via this relation\n",
    "\n",
    "$$Y_{portfolio} = \\alpha + \\beta X_{SPY}$$\n",
    "\n",
    "then we can take out a short position in SPY to try to cancel out this risk. The amount we take out is $-\\beta V$ where $V$ is the total value of our portfolio. This works because if our returns are approximated by $\\alpha + \\beta X_{SPY}$, then adding a short in SPY will make our new returns be $\\alpha + \\beta X_{SPY} - \\beta X_{SPY} = \\alpha$. Our returns are now purely alpha, which is independent of SPY and will suffer no risk exposure to the market.\n",
    "\n",
    "#### Market Neutral\n",
    "\n",
    "When a stragy exhibits a consistent beta of 0, we say that this strategy is market neutral.\n",
    "\n",
    "#### Problems with Estimation\n",
    "\n",
    "The problem here is that the beta we estimated is not necessarily going to stay the same as we walk forward in time. As such the amount of short we took out in the SPY may not perfectly hedge our portfolio, and in practice it is quite difficult to reduce beta by a significant amount.\n",
    "\n",
    "We will talk more about problems with estimating parameters in future lectures. In short, each estimate has a stardard error that corresponds with how stable the estimate is within the observed data."
   ]
  },
  {
   "cell_type": "markdown",
   "metadata": {
    "hidden": true,
    "id": "sN-0k81uxz4N"
   },
   "source": [
    "### The alpha/beta Tradeoff\n",
    "\n",
    "Hedging against a benchmark such as the market will indeed reduce your returns while the market is not doing poorly. This is, however, completely fine. If your algorithm is less volatile, you will be able to take out leverage on your strategy and multiply your returns back up to their original amount. Even better, your returns will be far more stable than the original volatile beta exposed strategy.\n",
    "\n",
    "By and large, even though high-beta strategies tend to be deceptively attractive due to their extremely good returns during periods of market growth, they fail in the long term as they will suffer extreme losses during a downturn."
   ]
  },
  {
   "cell_type": "markdown",
   "metadata": {
    "heading_collapsed": true,
    "hidden": true,
    "id": "qGorL0fpxz4N"
   },
   "source": [
    "### Other types of hedging\n",
    "\n",
    "Although we will not execute them here, there are strategies for hedging that may be better suited for other investment approaches.\n",
    "\n",
    "#### Pairs Trading\n",
    "\n",
    "One is pairs trading, in which a second asset is used in place of the benchmark here. This would allow you, for instance, to cancel out the volatility in an industry by being long in the stock of one company and short in the stock of another company in the same industry.\n",
    "\n",
    "#### Long Short Equity\n",
    "\n",
    "In this case we define a ranking over a group of $n$ equities, then long the top $p\\%$ and short the bottom $p\\%$ in equal dollar volume. This has the advantage of being implicitly, versus explicitly, hedged when $n$ is large. To see why this is the case, imagine buying a set of 100 securities randomly. The chance that the market exposure beta of these 100 is far from 1.0 is very low, as we have taken a large sample of the market. Similarly, when we rank by some independent metric and buy the top 100, the chance that we select securities whose overall beta is far from 1.0 is low. So in selecting 100 long and 100 short, the strategy beta should be very close to 1 - 1 = 0. Obviously some ranking systems will introduce a sample bias and break this assumption, for example ranking by the estimated beta of the equity.\n",
    "\n",
    "Another advantage of long short equity strategies is that you are making a bet on the ranking, or in other words the differential in performance between the top and bottom ranked equities. This means that you don't have to even worry about the alpha/beta tradeoff encountered in hedging."
   ]
  },
  {
   "cell_type": "markdown",
   "metadata": {
    "hidden": true,
    "id": "kEeZ7EgXxz4N"
   },
   "source": [
    "###  Why You Should Hedge Beta and Sector Exposures"
   ]
  },
  {
   "cell_type": "markdown",
   "metadata": {
    "hidden": true,
    "id": "DPA7RHEIxz4O"
   },
   "source": [
    "Whenever we have a trading strategy of any sort, we need to be considering the impact of systematic risk. There needs to be some risk involved in a strategy in order for there to be a return above the risk-free rate, but systematic risk poisons the well, so to speak. By its nature, systematic risk provides a commonality between the many securities in the market that cannot be diversified away. As such, we need to construct a hedge to get rid of it."
   ]
  },
  {
   "cell_type": "markdown",
   "metadata": {
    "hidden": true,
    "id": "t3U0cviJxz4O"
   },
   "source": [
    "#### The Fundamental Law of Asset Management\n",
    "\n",
    "The primary driver of the value of any strategy is whether or not it provides a compelling risk-adjusted return, i.e., the Sharpe Ratio. As expressed in The Foundation of Algo Success and \"The Fundamental Law of Active Management\", by Richard Grinold, Sharpe Ratio can be decomposed into two components, skill and breadth, as:\n",
    "\n",
    "$$IR = IC \\sqrt{BR}$$\n",
    "\n",
    "Technically, this is the definition of the Information Ratio (IR), but for our purposes it is equivalent to the Sharpe Ratio. The IR is the ratio of the excess return of a portfolio over its benchmark per unit active risk, i.e., the excess return of a long-only portfolio less its benchmark per unit tracking error. In the time of Grinold’s publication, however, long/short investing was a rarity. Today, in the world of hedge funds and long/short investing, there is no benchmark. We seek absolute returns so, in this case, the IR is equivalent to the Sharpe ratio.\n",
    "\n",
    "In this equation, skill is measured by IC (Information Coefficient), calculated with Alphalens. The IC is essentially the Spearman rank correlation, used to correlate your prediction and its realization. Breadth is measured as the number of **independent** bets in the period. The takeaway from this \"law\" is that, with any strategy, we need to:\n",
    "\n",
    "1. Bet well (high IC),\n",
    "2. Bet often (high number of bets), *and*\n",
    "3. **Make independent bets**\n",
    "\n",
    "If the bets are completely independent, then breadth is the total number of bets we have made for every individual asset, the number of assets times the number of periods. If the bets are not independent then the **effective breadth** can be much much less than the number of assets. Let's see precisely what beta exposure and sector exposure do to **effective breadth**."
   ]
  },
  {
   "cell_type": "markdown",
   "metadata": {
    "hidden": true,
    "id": "JcfWwdQ-xz4P"
   },
   "source": [
    "##### TL;DR: \n",
    "Beta exposure and sector exposure lead to a significant increase in correlation among bets. Portfolios with beta and sector bets have very low effective breadth. In order to have high Sharpe then, these portfolios must have very high IC. It is easier to increase effective breadth by hedging beta and sector exposure than it is to increase your IC.\n"
   ]
  },
  {
   "cell_type": "markdown",
   "metadata": {
    "hidden": true,
    "id": "yzsacy9yxz4P"
   },
   "source": [
    "### Forecasts and Bet Correlation\n",
    "\n",
    "We define a bet as the forecast of the *residual* of a security return. This forecast can be implicit -- i.e., we buy a stock and thus implicity we forecast that the stock will go up. What though do we mean by *residual*? Without any fancy math, this simply means the return **less a hedge**. Let's work through three examples. We use the Ledoit-Wolf covariance estimator to assess our covariance in all cases. For more information on why we use Ledoit-Wolf instead of typical sample covariance, check out Estimating Covariance Matrices.\n",
    "\n",
    "#### Example 1: No Hedge!\n",
    "\n",
    "If we go long on a set of securities, but do not hold any short positions, there is no hedge! So the *residual* is the stock return itself.\n",
    "\n",
    "$$r_{resid,i} = r_i$$\n",
    "\n",
    "Let's see what the correlation of our bets are in this case."
   ]
  },
  {
   "cell_type": "code",
   "execution_count": 151,
   "metadata": {
    "hidden": true
   },
   "outputs": [],
   "source": [
    "from sklearn.covariance import LedoitWolf"
   ]
  },
  {
   "cell_type": "code",
   "execution_count": 154,
   "metadata": {
    "hidden": true,
    "id": "bHzz0fQWxz4P"
   },
   "outputs": [
    {
     "name": "stdout",
     "output_type": "stream",
     "text": [
      "Processing data for stock: WFC\n",
      "Processing data for stock: JPM\n",
      "Processing data for stock: USB\n",
      "Processing data for stock: XOM\n",
      "Processing data for stock: BHI\n",
      "Processing data for stock: SLB\n",
      "20% done...\n",
      "40% done...\n",
      "60% done...\n",
      "80% done...\n"
     ]
    }
   ],
   "source": [
    "startDateStr = '2018/01/01'\n",
    "endDateStr = '2020/01/01'\n",
    "cachedFolderName = '../data/'\n",
    "dataSetId = 'Data'\n",
    "instrumentIds = ['WFC', 'JPM', 'USB', 'XOM', 'BHI', 'SLB']\n",
    "ds = YahooStockDataSource(cachedFolderName=cachedFolderName,\n",
    "                            dataSetId=dataSetId,\n",
    "                            instrumentIds=instrumentIds,\n",
    "                            startDateStr=startDateStr,\n",
    "                            endDateStr=endDateStr,\n",
    "                            event='history')\n",
    "historical_prices = ds.getBookDataByFeature()['adjClose']\n",
    "rets = historical_prices.pct_change().fillna(0)\n",
    "\n",
    "lw_cov = LedoitWolf().fit(rets).covariance_ # Calculate Ledoit-Wolf estimator\n",
    "\n",
    "\n",
    "def extract_corr_from_cov(cov_matrix):\n",
    "    # Linear algebra result:\n",
    "    # https://math.stackexchange.com/questions/186959/correlation-matrix-from-covariance-matrix\n",
    "    d = np.linalg.inv(np.diag(np.sqrt(np.diag(cov_matrix))))\n",
    "    corr = d.dot(cov_matrix).dot(d)\n",
    "    return corr"
   ]
  },
  {
   "cell_type": "code",
   "execution_count": 158,
   "metadata": {
    "hidden": true,
    "id": "wV0YmDfXxz4Q"
   },
   "outputs": [
    {
     "data": {
      "image/png": "[encoded data removed]",
      "text/plain": [
       "<Figure size 432x288 with 3 Axes>"
      ]
     },
     "metadata": {
      "needs_background": "light"
     },
     "output_type": "display_data"
    }
   ],
   "source": [
    "fig, (ax1, ax2) = plt.subplots(ncols=2)\n",
    "fig.tight_layout()\n",
    "\n",
    "corr = extract_corr_from_cov(lw_cov)\n",
    "# Plot prices\n",
    "left = historical_prices.plot(ax=ax1)\n",
    "# Plot covariance as a heat map\n",
    "right = sns.heatmap(corr, ax=ax2, fmt='d', vmin=-1, vmax=1)"
   ]
  },
  {
   "cell_type": "code",
   "execution_count": 159,
   "metadata": {
    "hidden": true,
    "id": "M8jyssBIxz4Q"
   },
   "outputs": [
    {
     "name": "stdout",
     "output_type": "stream",
     "text": [
      "Average pairwise correlation: 0.3809\n"
     ]
    }
   ],
   "source": [
    "average_corr = np.mean(corr[np.triu_indices_from(corr, k=1)])\n",
    "print ('Average pairwise correlation: %.4f' % average_corr)"
   ]
  },
  {
   "cell_type": "markdown",
   "metadata": {
    "hidden": true,
    "id": "oc-yeOJMxz4R"
   },
   "source": [
    "The result here is that we have six bets and they are all very highly correlated."
   ]
  },
  {
   "cell_type": "markdown",
   "metadata": {
    "hidden": true,
    "id": "DSMB9nhnxz4R"
   },
   "source": [
    "#### Example 2: Beta Hedge\n",
    "\n",
    "In this case, we will assume that each bet is hedged against the market (SPY). In this case, the residual is calculated as:\n",
    "\n",
    "$$ r_{resid,i} = r_i - \\beta_i r_i $$\n",
    "\n",
    "where $\\beta_i$ is the beta to the market of security $i$ calculated with the CAPM and $r_i$ is the return of security $i$."
   ]
  },
  {
   "cell_type": "code",
   "execution_count": 161,
   "metadata": {
    "hidden": true,
    "id": "6jtleFk2xz4R"
   },
   "outputs": [
    {
     "name": "stdout",
     "output_type": "stream",
     "text": [
      "Processing data for stock: WFC\n",
      "Processing data for stock: JPM\n",
      "Processing data for stock: USB\n",
      "Processing data for stock: SPY\n",
      "Processing data for stock: XOM\n",
      "Processing data for stock: BHI\n",
      "Processing data for stock: SLB\n",
      "20% done...\n",
      "40% done...\n",
      "60% done...\n",
      "80% done...\n"
     ]
    }
   ],
   "source": [
    "startDateStr = '2018/01/01'\n",
    "endDateStr = '2020/01/01'\n",
    "cachedFolderName = '../data/'\n",
    "dataSetId = 'Data'\n",
    "instrumentIds = ['WFC', 'JPM', 'USB', 'SPY', 'XOM', 'BHI', 'SLB' ]\n",
    "ds = YahooStockDataSource(cachedFolderName=cachedFolderName,\n",
    "                            dataSetId=dataSetId,\n",
    "                            instrumentIds=instrumentIds,\n",
    "                            startDateStr=startDateStr,\n",
    "                            endDateStr=endDateStr,\n",
    "                            event='history')\n",
    "historical_prices = ds.getBookDataByFeature()['adjClose']\n",
    "rets = historical_prices.pct_change().fillna(0)\n",
    "\n",
    "\n",
    "market = rets[['SPY']]\n",
    "stock_rets = rets.drop(['SPY'], axis=1)\n",
    "residuals = stock_rets.copy()*0\n",
    "\n",
    "for stock in stock_rets.columns:\n",
    "    model = sm.OLS(stock_rets[stock], market.values)\n",
    "    results = model.fit()\n",
    "    residuals[stock] = results.resid\n",
    "\n",
    "lw_cov = LedoitWolf().fit(residuals).covariance_ # Calculate Ledoit-Wolf Estimator"
   ]
  },
  {
   "cell_type": "code",
   "execution_count": 163,
   "metadata": {
    "hidden": true,
    "id": "fQKpEjPjxz4S"
   },
   "outputs": [
    {
     "data": {
      "image/png": "[encoded data removed]",
      "text/plain": [
       "<Figure size 432x288 with 3 Axes>"
      ]
     },
     "metadata": {
      "needs_background": "light"
     },
     "output_type": "display_data"
    }
   ],
   "source": [
    "fig, (ax1, ax2) = plt.subplots(ncols=2)\n",
    "fig.tight_layout()\n",
    "\n",
    "corr = extract_corr_from_cov(lw_cov)\n",
    "left = (1+residuals).cumprod().plot(ax=ax1)\n",
    "right = sns.heatmap(corr, ax=ax2, fmt='d', vmin=-1, vmax=1)"
   ]
  },
  {
   "cell_type": "code",
   "execution_count": 164,
   "metadata": {
    "hidden": true,
    "id": "ZJ5PObf3xz4T"
   },
   "outputs": [
    {
     "name": "stdout",
     "output_type": "stream",
     "text": [
      "Average pairwise correlation: 0.1742\n"
     ]
    }
   ],
   "source": [
    "average_corr = np.mean(corr[np.triu_indices_from(corr, k=1)])\n",
    "print ('Average pairwise correlation: %.4f' % average_corr)"
   ]
  },
  {
   "cell_type": "markdown",
   "metadata": {
    "hidden": true,
    "id": "ka9tbSvmxz4T"
   },
   "source": [
    "The beta hedge has brought down the average correlation significanty. Theoretically, this should improve our breadth. It is obvious that we are left with two highly correlated clusters however. Let's see what happens when we hedge the sector risk."
   ]
  },
  {
   "cell_type": "markdown",
   "metadata": {
    "hidden": true,
    "id": "QZtucH1Yxz4U"
   },
   "source": [
    "#### Example 3: Sector Hedge\n",
    "\n",
    "The sector return and the market return are themselves highly correlated. As such, you cannot do a multivariate regression due to multicollinearity, a classic violation of regression assumptions. To hedge against both the market and a given security's sector, you first estimate the market beta residuals and then calculate the sector beta on *those* residuals.\n",
    "\n",
    "$$\n",
    "r_{resid,i} = r_i - \\beta_i r_i \\\\\n",
    "r_{resid_{SECTOR},i}= r_{resid,i} - \\beta_{SECTOR,i}r_{resid,i}\n",
    "$$\n",
    "\n",
    "Here, $r_{resid, i}$ is the residual between the security return and a market beta hedge and $r_{resid_{SECTOR}, i}$ is the residual between *that* residual and a hedge of that residual against the relevant sector."
   ]
  },
  {
   "cell_type": "code",
   "execution_count": 165,
   "metadata": {
    "hidden": true,
    "id": "2RNHU3Gixz4U"
   },
   "outputs": [
    {
     "name": "stdout",
     "output_type": "stream",
     "text": [
      "Processing data for stock: WFC\n",
      "Processing data for stock: JPM\n",
      "Processing data for stock: USB\n",
      "Processing data for stock: XLF\n",
      "Processing data for stock: SPY\n",
      "Processing data for stock: XOM\n",
      "Processing data for stock: BHI\n",
      "Processing data for stock: SLB\n",
      "Processing data for stock: XLE\n",
      "20% done...\n",
      "40% done...\n",
      "60% done...\n",
      "80% done...\n"
     ]
    }
   ],
   "source": [
    "startDateStr = '2018/01/01'\n",
    "endDateStr = '2020/01/01'\n",
    "cachedFolderName = '../data/'\n",
    "dataSetId = 'Data'\n",
    "instrumentIds = ['WFC', 'JPM', 'USB', 'XLF', 'SPY', 'XOM', 'BHI', 'SLB', 'XLE']\n",
    "ds = YahooStockDataSource(cachedFolderName=cachedFolderName,\n",
    "                            dataSetId=dataSetId,\n",
    "                            instrumentIds=instrumentIds,\n",
    "                            startDateStr=startDateStr,\n",
    "                            endDateStr=endDateStr,\n",
    "                            event='history')\n",
    "historical_prices = ds.getBookDataByFeature()['adjClose']\n",
    "rets = historical_prices.pct_change().fillna(0)\n",
    "\n",
    "\n",
    "market = rets[['SPY']]\n",
    "stock_rets = rets.drop(['SPY'], axis=1)\n",
    "residuals = stock_rets.copy()*0\n",
    "\n",
    "\n",
    "# Get market hedge ticker\n",
    "mkt = rets[['SPY']]\n",
    "# Get sector hedge tickers\n",
    "sector_1_hedge = rets[['XLF']]\n",
    "sector_2_hedge = rets[['XLE']]\n",
    "# Identify securities for each sector\n",
    "sector_1_stocks = rets[['WFC', 'JPM', 'USB']]\n",
    "sector_2_stocks = rets[['XOM', 'BHI', 'SLB']]\n",
    "\n",
    "market_rets = mkt\n",
    "sector_1_rets = sector_1_hedge\n",
    "sector_2_rets = sector_2_hedge\n",
    "                           \n",
    "stock_rets = rets.drop(['XLF', 'SPY', 'XLE'], axis=1)\n",
    "residuals_market = stock_rets.copy()*0\n",
    "residuals = stock_rets.copy()*0\n",
    "# Calculate market beta of sector 1 benchmark\n",
    "model = sm.OLS(sector_1_rets.values, market.values)\n",
    "results = model.fit()\n",
    "sector_1_excess = results.resid\n",
    "# Calculate market beta of sector 2 benchmark\n",
    "model = sm.OLS(sector_2_rets.values, market.values)\n",
    "results = model.fit()\n",
    "sector_2_excess = results.resid\n",
    "\n",
    "for stock in sector_1_stocks:\n",
    "    # Calculate market betas for sector 1 stocks\n",
    "    model = sm.OLS(stock_rets[stock], market.values)\n",
    "    results = model.fit()\n",
    "    # Calculate residual of security + market hedge\n",
    "    residuals_market[stock] = results.resid\n",
    "    # Calculate sector beta for previous residuals\n",
    "    model = sm.OLS(residuals_market[stock], sector_1_excess)\n",
    "    results = model.fit()\n",
    "    # Get final residual\n",
    "    residuals[stock] = results.resid\n",
    "                           \n",
    "for stock in sector_2_stocks:\n",
    "    # Calculate market betas for sector 2 stocks\n",
    "    model = sm.OLS(stock_rets[stock], market.values)\n",
    "    results = model.fit()\n",
    "    # Calculate residual of security + market hedge\n",
    "    residuals_market[stock] = results.resid\n",
    "    # Calculate sector beta for previous residuals\n",
    "    model = sm.OLS(residuals_market[stock], sector_2_excess)\n",
    "    results = model.fit()\n",
    "    # Get final residual\n",
    "    residuals[stock] = results.resid\n",
    "\n",
    "# Get covariance of residuals\n",
    "lw_cov = LedoitWolf().fit(residuals).covariance_"
   ]
  },
  {
   "cell_type": "code",
   "execution_count": 166,
   "metadata": {
    "hidden": true,
    "id": "O19TbpZexz4U"
   },
   "outputs": [
    {
     "data": {
      "image/png": "[encoded data removed]",
      "text/plain": [
       "<Figure size 432x288 with 3 Axes>"
      ]
     },
     "metadata": {
      "needs_background": "light"
     },
     "output_type": "display_data"
    }
   ],
   "source": [
    "fig, (ax1, ax2) = plt.subplots(ncols=2)\n",
    "fig.tight_layout()\n",
    "\n",
    "corr = extract_corr_from_cov(lw_cov)\n",
    "left = (1+residuals).cumprod().plot(ax=ax1)\n",
    "right = sns.heatmap(corr, ax=ax2, fmt='d', vmin=-1, vmax=1)"
   ]
  },
  {
   "cell_type": "code",
   "execution_count": 167,
   "metadata": {
    "hidden": true,
    "id": "Z2qekxBDxz4V"
   },
   "outputs": [
    {
     "name": "stdout",
     "output_type": "stream",
     "text": [
      "Average pairwise correlation: 0.0106\n"
     ]
    }
   ],
   "source": [
    "average_corr = np.mean(corr[np.triu_indices_from(corr, k=1)])\n",
    "print ('Average pairwise correlation: %.4f' % average_corr)"
   ]
  },
  {
   "cell_type": "markdown",
   "metadata": {
    "hidden": true,
    "id": "o8jW7_gYxz4W"
   },
   "source": [
    "There we go! The sector hedge brought down the correlation between our bets to close to zero. "
   ]
  },
  {
   "cell_type": "markdown",
   "metadata": {
    "hidden": true,
    "id": "EYboX73Jxz4W"
   },
   "source": [
    "### Calculating Effective Breadth\n",
    "\n",
    "This section is based on \"How to calculate breadth: An evolution of the fundamental law of active portfolio management\", by David Buckle; Vol. 4, 6, 393-405, 2003, _Journal of Asset Management_. Buckle derives the \"semi-generalised fundamental law of active management\" under several weak assumptions. The key result of this paper (for us) is a closed-form calculaiton of effective breadth as a function of the correlation between bets. Buckle shows that breadth, $BR$, can be modeled as\n",
    "\n",
    "$$BR = \\frac{N}{1 + \\rho(N -1)}$$\n",
    "\n",
    "where N is the number of stocks in the portfolio and $\\rho$ is the assumed single correlation of the expected variation around the forecast."
   ]
  },
  {
   "cell_type": "code",
   "execution_count": 168,
   "metadata": {
    "hidden": true,
    "id": "FnODZo7Exz4W"
   },
   "outputs": [
    {
     "data": {
      "image/png": "[encoded data removed]",
      "text/plain": [
       "<Figure size 432x288 with 1 Axes>"
      ]
     },
     "metadata": {
      "needs_background": "light"
     },
     "output_type": "display_data"
    }
   ],
   "source": [
    "def buckle_BR_const(N, rho):\n",
    "    return N/(1 + rho*(N - 1))\n",
    "\n",
    "corr = np.linspace(start=0, stop=1.0, num=500)\n",
    "plt.plot(corr, buckle_BR_const(6, corr))\n",
    "plt.title('Effective Breadth as a function of Forecast Correlation (6 Stocks)')\n",
    "plt.ylabel('Effective Breadth (Number of Bets)')\n",
    "plt.xlabel('Forecast Correlation');"
   ]
  },
  {
   "cell_type": "markdown",
   "metadata": {
    "hidden": true,
    "id": "Vw8ebesHxz4X"
   },
   "source": [
    "Here we see that in the case of the long-only portfolio, where the average correlation is 0.56, we are *effectively making only approximately 2 bets*. When we hedge beta, with a resulting average correlation of 0.22, things get a little better, *three effective bets*. When we add the sector hedge, we get close to zero correlation, and in this case the number of bets equals the number of assets, 6.\n",
    "\n",
    "**More independent bets with the same IC leads to higher Sharpe ratio.**"
   ]
  },
  {
   "cell_type": "markdown",
   "metadata": {
    "hidden": true,
    "id": "knXxzIc8xz4X"
   },
   "source": [
    "#### Using this in Practice\n",
    "\n",
    "Trading costs money due to market impact and commissions. As such, the post hoc implementation of a hedge is almost always suboptimal. In that case, you are trading purely to hedge risk. It is preferable to think about your sector and market exposure *throughout the model development process*. Sector and market risk is naturally hedged in a pairs-style strategy; in a cross-sectional strategy, consider de-meaning the alpha vector by the sector average; with an event-driven strategy, consider adding additional alphas so you can find offsetting bets in the same sector. As a last resort, hedge with a well chosen sector ETF.\n"
   ]
  },
  {
   "cell_type": "markdown",
   "metadata": {
    "hidden": true,
    "id": "lSENnwKdxz4X"
   },
   "source": [
    "#### Why You Should Hedge Beta and Sector Exposures (Part II)\n",
    "\n"
   ]
  },
  {
   "cell_type": "markdown",
   "metadata": {
    "hidden": true,
    "id": "AaqxtYKWxz4X"
   },
   "source": [
    "In the first lecture on Why You Should Hedge Beta and Sector Exposure, we covered the information coefficient (IC) and effective breadth, providing yet more reasons to make as many independent bets as possible. Here we expand upon the concepts detailed there by decomposing portfolios of varying numbers of securities to further explore the effects of systematic risk."
   ]
  },
  {
   "cell_type": "markdown",
   "metadata": {
    "hidden": true,
    "id": "VukfbGMGxz4Y"
   },
   "source": [
    "#### Hedging Beta and Sector Risk is Good for Allocators (Which is Good for You!)\n",
    "\n",
    "Let's work from two basic beliefs:\n",
    "- You would like someone to fund your algorithm\n",
    "- The institution that funds your algorithm is not going to allocate 100% of its money to you. In other words, your algorithm is one in a portfolio of algorithms.\n",
    "\n",
    "The implication of the second belief is subtle. Why should it matter that your high Sharpe algo is part of a portfolio? The key to understanding the importance of this and what it has to do with beta and sector exposure is the following mathematical result:\n",
    "\n",
    "**In a portfolio, stock specific risk can be diversified out while common factor risk cannot.**"
   ]
  },
  {
   "cell_type": "markdown",
   "metadata": {
    "hidden": true
   },
   "source": [
    "#### TL;DR: \n",
    "Beta and sector exposure are **common factors**, i.e., they are among a handful of risk characteristics that are shared among all stocks. Risk exposure to common factors does not diversify away in a portfolio of algos. An allocator will not be able to make a large allocation to you if your algo presents common factor risk. The combination of many algos with modest common factor risk can lead to overwhelming common factor risk at the portfolio level. Allocators do not like this. If you want to get a large capital allocation, you must have low beta and sector exposure consistently over time.\n",
    "\n"
   ]
  },
  {
   "cell_type": "markdown",
   "metadata": {
    "hidden": true,
    "id": "irSLggtJxz4Y"
   },
   "source": [
    "\n",
    "#### Foundations\n",
    "\n",
    "#### Single Stock Risk Decomposition\n",
    "\n",
    "To build intuition, let's posit a single factor model:\n",
    "\n",
    "$$r_i = \\alpha_i + \\beta_i r_m + \\epsilon_i$$\n",
    "\n",
    "where $\\alpha_i$ is the intercept, $\\epsilon_i$ is the error, and $r_m$ is the market return. This is the Capital Asset Pricing Model (CAPM), which posits that the returns to a stock can be attributable to its beta-weighted exposure to the market and a return which is idiosyncratic to that stock. Two important assumptions here are that the $\\epsilon_i$s are uncorrelated to the market and each other across stocks. See the Lecture on Beta Hedging for more background.\n",
    "\n",
    "In this case, the \"risk\", as measured by the variance, for an individual stock is:\n",
    "\n",
    "$$\\sigma_i^2 = \\beta_i^2 \\sigma_m^2 + \\sigma_{\\epsilon_i}^2$$\n",
    "\n",
    "A stocks variance is broken into the **common risk**, $\\beta_i^2\\sigma_m^2$, and **specific risk**, $\\sigma_{\\epsilon_i}$. **Common risk** is risk in the stock driven by market risk which is common among all stocks proportionate to the stock's beta. **Specific risk** is the risk that is unique to that individual stock.\n",
    "\n",
    "Let's look at two examples and decompose the risk into the percent due to common factor risk."
   ]
  },
  {
   "cell_type": "code",
   "execution_count": 169,
   "metadata": {
    "hidden": true,
    "id": "KkBxzvFXxz4Z"
   },
   "outputs": [],
   "source": [
    "def stock_risk(beta, market_vol, idio_vol):\n",
    "    common_risk = (beta**2)*(market_vol**2)\n",
    "    specific_risk = idio_vol**2\n",
    "    total_risk = common_risk + specific_risk\n",
    "    return total_risk, common_risk/total_risk"
   ]
  },
  {
   "cell_type": "markdown",
   "metadata": {
    "hidden": true,
    "id": "tuEKmYdBxz4Z"
   },
   "source": [
    "We take two separate stocks, each with different market beta exposures and idiosyncratic volatility."
   ]
  },
  {
   "cell_type": "code",
   "execution_count": 170,
   "metadata": {
    "hidden": true,
    "id": "pyO6MU-Nxz4Z"
   },
   "outputs": [],
   "source": [
    "# Betas\n",
    "b1 = 1.2\n",
    "b2 = 1.1\n",
    "# Market volatility\n",
    "market_vol = 0.15\n",
    "# Idiosyncratic volatilities\n",
    "idio_vol_1 = 0.10 \n",
    "idio_vol_2 = 0.07"
   ]
  },
  {
   "cell_type": "code",
   "execution_count": 171,
   "metadata": {
    "hidden": true,
    "id": "Od_vPKjdxz4a"
   },
   "outputs": [
    {
     "name": "stdout",
     "output_type": "stream",
     "text": [
      "Stock 1 risk (annualized standard deviation): 0.2059 \n",
      "Stock 1: percent of total risk due to common risk: 0.7642 \n",
      "\n",
      "Stock 2 risk (annualized standard deviation): 0.1792 \n",
      "Stock 2: percent of total risk due to common risk: 0.8475 \n"
     ]
    }
   ],
   "source": [
    "total_1, pct_common_1 = stock_risk(b1, market_vol, idio_vol_1)\n",
    "total_2, pct_common_2 = stock_risk(b2, market_vol, idio_vol_2)\n",
    "\n",
    "print (\"Stock 1 risk (annualized standard deviation): %0.4f \" % np.sqrt(total_1))\n",
    "print (\"Stock 1: percent of total risk due to common risk: %0.4f \" % pct_common_1)\n",
    "\n",
    "print (\"\\nStock 2 risk (annualized standard deviation): %0.4f \" % np.sqrt(total_2))\n",
    "print (\"Stock 2: percent of total risk due to common risk: %0.4f \" % pct_common_2)"
   ]
  },
  {
   "cell_type": "markdown",
   "metadata": {
    "hidden": true,
    "id": "T0kq3tnQxz4b"
   },
   "source": [
    "This is just looking at the breakdown of the risk associated with each individual stock. We can combine these into a portfolio to see how their combined volatility is affected by common factor risk."
   ]
  },
  {
   "cell_type": "markdown",
   "metadata": {
    "hidden": true,
    "id": "uy2cI60Wxz4c"
   },
   "source": [
    "#### Two Stock Portfolio Risk Decomposition\n",
    "\n",
    "Now let's imagine you have a two stock portfolio with percentage weights $w_1$ and $w_2$. The risk of the portfolio (derived below), $\\Pi$, under the one-factor model is then:\n",
    "\n",
    "$$\\sigma_{\\Pi}^2 = \\overbrace{\\sigma_m^2\\left( w_1^2\\beta_1^2 + w_2^2\\beta_2^2 + 2w_1w_2\\beta_1\\beta_1 \\right)}^{\\text{common risk}} + \\overbrace{w_1^2\\epsilon_1^2 + w_2^2 \\epsilon_2^2}^{\\text{specifc risk}}$$\n",
    "\n",
    "This is the simplest possible example of portfolio factor risk, one factor and two assets, yet we can already use it to gain intuition about portfolio risk and hedging."
   ]
  },
  {
   "cell_type": "code",
   "execution_count": 172,
   "metadata": {
    "hidden": true,
    "id": "BQZVSDfVxz4c"
   },
   "outputs": [],
   "source": [
    "# The weights for each security in our portfolio\n",
    "w1 = 0.5\n",
    "w2 = 0.5"
   ]
  },
  {
   "cell_type": "code",
   "execution_count": 173,
   "metadata": {
    "hidden": true,
    "id": "gQjf6Qdfxz4d"
   },
   "outputs": [],
   "source": [
    "def two_stocks_one_factor(w1, w2, b1, b2, market_vol, idio_vol_1, idio_vol_2):\n",
    "    common_risk = (market_vol**2)*(w1*w1*b1*b1 + w2*w2*b2*b2 + 2*w1*w2*b1*b2)\n",
    "    specific_risk =  w1*w1*idio_vol_1**2 + w2*w2*idio_vol_2**2\n",
    "    total_risk = common_risk + specific_risk\n",
    "    return total_risk, common_risk/total_risk"
   ]
  },
  {
   "cell_type": "markdown",
   "metadata": {
    "hidden": true,
    "id": "t3YKecE0xz4e"
   },
   "source": [
    "The risk for a two stock, equally-weighted, long-only portfolio:"
   ]
  },
  {
   "cell_type": "code",
   "execution_count": 174,
   "metadata": {
    "hidden": true,
    "id": "YNA19YUUxz4e"
   },
   "outputs": [
    {
     "name": "stdout",
     "output_type": "stream",
     "text": [
      "Portfolio risk (annualized standard deviation): 0.1830 \n",
      "Percent of total risk due to common risk: 0.8887\n"
     ]
    }
   ],
   "source": [
    "total, pct_common = two_stocks_one_factor(w1, w2, b1, b2, market_vol, idio_vol_1, idio_vol_2)\n",
    "print (\"Portfolio risk (annualized standard deviation): %0.4f \" % np.sqrt(total))\n",
    "print (\"Percent of total risk due to common risk: %0.4f\" % pct_common)"
   ]
  },
  {
   "cell_type": "markdown",
   "metadata": {
    "hidden": true,
    "id": "GEP84Mb1xz4f"
   },
   "source": [
    "The astute reader will notice that the proportion of risk in the portfolio due to common factor risk is **larger for the portfolio** than for the weighted sum of the common risk proportion for the two components. To repeat the key point in this lecture: **In a portfolio, stock specific risk diversifies while common factor risk does not.**"
   ]
  },
  {
   "cell_type": "markdown",
   "metadata": {
    "hidden": true,
    "id": "1GV2PvGkxz4f"
   },
   "source": [
    "The risk for a two stock, beta-hedged long-short portfolio:"
   ]
  },
  {
   "cell_type": "code",
   "execution_count": 175,
   "metadata": {
    "hidden": true,
    "id": "SWdxzkhIxz4f"
   },
   "outputs": [
    {
     "name": "stdout",
     "output_type": "stream",
     "text": [
      "Portfolio risk (annualized standard deviation): 0.0629 \n",
      "Percent of total risk due to common risk: 0.0000\n"
     ]
    }
   ],
   "source": [
    "w2 = -w1*b1/b2    # set weight 2 such that the portfolio has zero beta\n",
    "\n",
    "total, pct_common = two_stocks_one_factor(w1, w2, b1, b2, market_vol, idio_vol_1, idio_vol_2)\n",
    "print (\"Portfolio risk (annualized standard deviation): %0.4f \" % np.sqrt(total))\n",
    "print (\"Percent of total risk due to common risk: %0.4f\" % pct_common)"
   ]
  },
  {
   "cell_type": "markdown",
   "metadata": {
    "hidden": true,
    "id": "llxr4p8fxz4g"
   },
   "source": [
    "Note that we eliminated **all** the common risk with a perfect beta hedge.\n"
   ]
  },
  {
   "cell_type": "markdown",
   "metadata": {
    "hidden": true,
    "id": "s8_24bmDxz4g"
   },
   "source": [
    "#### Portfolio Risk\n",
    "\n",
    "If $X$ is a column vector of n random variables, $X_1,\\dots,X_n$, and $c$ is a column vector of coefficients (constants), then the [variance of the weighted sum](https://en.wikipedia.org/wiki/Variance) $c'X$ is\n",
    "\n",
    "$$\\text{Var}(c'X) = c'\\Sigma c$$\n",
    "\n",
    "where $\\Sigma$ is the covariance matrix of the $X$'s.\n",
    "\n",
    "In our application, $c$ is our stock weight vector $w$ and $\\Sigma$ is the covariance matrix of stock returns.\n",
    "\n",
    "$$\\sigma_{\\Pi}^2 = w' \\Sigma w$$\n",
    "\n",
    "Just as we decompose the single stock risk above, we can decompose the covariance matrix to separate *common risk* and *specific risk*\n",
    "\n",
    "$$\\Sigma = BFB' + D$$\n",
    "\n",
    "Thus\n",
    "\n",
    "$$\\sigma_{\\Pi}^2  = w'(BFB' + D)w$$\n",
    "$$\\sigma_{\\Pi}^2  = w'BFB'w + w'Dw$$\n",
    "\n",
    "Which for the two stock portfolio above works out to\n",
    "\n",
    "\\begin{equation}\n",
    "\\sigma_{\\Pi}^2 =\n",
    "\\overbrace{\n",
    "\\begin{bmatrix} w_1 & w_2 \\end{bmatrix}\n",
    "\\begin{bmatrix} \\beta_{1} \\\\ \\beta_{2} \\end{bmatrix} \n",
    "\\sigma_m^2\n",
    "\\begin{bmatrix} \\beta_{1} & \\beta_{2} \\end{bmatrix}\n",
    "\\begin{bmatrix} w_1 \\\\ w_2 \\end{bmatrix}\n",
    "}^{\\text{common risk}}\n",
    "+ \\overbrace{\\begin{bmatrix} w_1 & w_2 \\end{bmatrix}\n",
    "\\begin{bmatrix} \\epsilon_1^2 & 0\\\\ 0 & \\epsilon_2^2 \\end{bmatrix}\n",
    "\\begin{bmatrix} w_1 \\\\ w_2 \\end{bmatrix}}^{\\text{specific risk}}\n",
    "\\end{equation}\n",
    "\n",
    "If you work through this matrix multiplication, you get the stated result above\n",
    "\n",
    "$$\\sigma_{\\Pi}^2 = \\overbrace{\\sigma_m^2\\left( w_1^2\\beta_1^2 + w_2^2\\beta_2^2 + 2w_1w_2\\beta_1\\beta_1 \\right)}^{\\text{common risk}} + \\overbrace{w_1^2\\epsilon_1^2 + w_2^2 \\epsilon_2^2}^{\\text{specifc risk}}$$\n",
    "\n",
    "#### Multi-Factor Models\n",
    "\n",
    "Of course, we can expand the CAPM to include *additional* risk factors besides market beta. We could posit that there are in total $m$ risks which are *common* to all stocks.\n",
    "\n",
    "$$r_i = \\alpha_i + \\beta_{1,i} f_1 + \\dots + \\beta_{m,i} f_m + \\epsilon_i$$\n",
    "\n",
    "or more concisely\n",
    "\n",
    "$$r_i = \\alpha_i + \\sum_{j=1}^m \\beta_{j,i} f_j + \\epsilon_i$$\n",
    "\n",
    "or, considering all stocks, $i$, from 1 to N, even more concisely, for a given period $t$,\n",
    "\n",
    "$$r = \\alpha + Bf + \\epsilon$$\n",
    "\n",
    "where $r$ is the Nx1 column vector of returns, $B$ is the Nx$m$ matrix of factor betas, $f$ is the mx1 column of factor returns, and $\\epsilon$ is the Nx1 column vector of idiosyncratic returns. Finally,\n",
    "\n",
    "$$\\sigma_{\\Pi}^2  = w'BFB'w + w'Dw$$\n",
    "\n",
    "where $B$ is the Nx$m$ matrix of factor betas, $F$ is the $m$x$m$ covariance matrix of factor returns, and $D$ is a NxN matrix with the variance of $\\epsilon_i$'s on diagonal, and zeros everywhere else.\n",
    "\n",
    "With this result, *assuming we had a suitable risk model giving us the matrices $B$, $F$, and $D$*, we could calculate our portfolio risk and the proportion of risk coming from common risk.\n",
    "\n",
    "Likewise, just as we set $w_2$ above in the two stock case to the value that neutralized the exposure to the single factor $\\beta$, in the multi-factor case we could use the factor betas matrix $B$ to construct a portfolio which is neutral to **all** common factors. **A portfolio which is neutral to all common factors has zero common factor risk.**\n"
   ]
  },
  {
   "cell_type": "markdown",
   "metadata": {
    "hidden": true,
    "id": "zJt3r94Vxz4h"
   },
   "source": [
    "#### Portfolios of Algos\n",
    "\n",
    "Even without a risk model, we can get some intuition as to how the risk of a portfolio of algos looks.\n",
    "\n",
    "What does a resulting portfolio of algos look like when the individual algos have non-zero common risk? Taking some inspiration from a recent journal article [The Dangers of Diversification](http://www.iijournals.com/doi/abs/10.3905/jpm.2017.43.2.013?journalCode=jpm) by Garvey, Kahn, and Savi, imagine that each algo has a certain *budget of common risk* it can take. This budget is defined as the percent common risk of total risk in the algo.\n",
    "\n",
    "In the first case, we assume that all algos have this same budget (and use all the budget!) and the correlation between their common risks is 1.0. This is simular to the case of a single factor model.\n",
    "\n"
   ]
  },
  {
   "cell_type": "code",
   "execution_count": 176,
   "metadata": {
    "hidden": true,
    "id": "KSIHFrNaxz4h"
   },
   "outputs": [],
   "source": [
    "def portfolio_risk_decomposition(budget=0.2, correl=1.0, algo_count=2, algo_total_risk=0.04):\n",
    "    N = algo_count\n",
    "    \n",
    "    algo_common_risk = budget*(algo_total_risk**2)\n",
    "    algo_idio_risk = algo_total_risk**2 - algo_common_risk\n",
    "\n",
    "    w = 1./N\n",
    "    \n",
    "    covar = correl*algo_common_risk\n",
    "    common_risk = N*w*w*algo_common_risk + (N*N - N)*w*w*covar\n",
    "    idio_risk = algo_idio_risk*w\n",
    "    total_risk = common_risk + idio_risk\n",
    "    \n",
    "    return total_risk, common_risk/total_risk"
   ]
  },
  {
   "cell_type": "code",
   "execution_count": 177,
   "metadata": {
    "hidden": true,
    "id": "nO4C_1jlxz4h"
   },
   "outputs": [
    {
     "name": "stdout",
     "output_type": "stream",
     "text": [
      "Portfolio total risk: 0.0196 \n",
      "Portfolio percent of common risk: 0.8333 \n"
     ]
    }
   ],
   "source": [
    "a, b = portfolio_risk_decomposition(budget=0.2, algo_count=20, correl=1.0, algo_total_risk=0.04)\n",
    "print (\"Portfolio total risk: %.4f \" % np.sqrt(a))\n",
    "print (\"Portfolio percent of common risk: %.4f \" % b)"
   ]
  },
  {
   "cell_type": "code",
   "execution_count": 178,
   "metadata": {
    "hidden": true,
    "id": "Sibez6mixz4i"
   },
   "outputs": [
    {
     "data": {
      "image/png": "[encoded data removed]",
      "text/plain": [
       "<Figure size 432x288 with 1 Axes>"
      ]
     },
     "metadata": {
      "needs_background": "light"
     },
     "output_type": "display_data"
    }
   ],
   "source": [
    "algos = np.linspace(1,20)\n",
    "plt.plot(\n",
    "    algos,\n",
    "    portfolio_risk_decomposition(budget=0.2, correl=1.0, algo_count=algos)[1]\n",
    ")\n",
    "plt.plot(\n",
    "    algos,\n",
    "    portfolio_risk_decomposition(budget=0.4, correl=1.0, algo_count=algos)[1]\n",
    ")\n",
    "plt.ylim([0,1]);\n",
    "plt.title('Percent of Portfolio Risk due to Common Risk')\n",
    "plt.xlabel('Number of Algos in Portfolio')\n",
    "plt.ylabel('Percent of Portfolio of Algos Risk due to Common Risk')\n",
    "plt.legend(\n",
    "    ['20% Single Algo Common Risk Budget', '40% Single Algo Common Risk Budget']\n",
    ");"
   ]
  },
  {
   "cell_type": "markdown",
   "metadata": {
    "hidden": true,
    "id": "wgaEVkpWxz4j"
   },
   "source": [
    "From this plot, you can see that from the allocator's perspective, a \"small\" budget that allows for 20% of individual algo total risk to be driven by common risk leads to a 20 algo portfolio **with 83%** of it's risk driven by common risk! Ideally an allocator wants you to have **zero common factor risk**."
   ]
  },
  {
   "cell_type": "markdown",
   "metadata": {
    "collapsed": true,
    "hidden": true,
    "id": "TsMvWRVexz4j"
   },
   "source": [
    "#### TL;DR:\n",
    "Even if you can't predict portfolio risk and don't have a risk model to decompose risk, you can form a portfolio with **zero common risk** by hedging the beta exposure to common factors. The most important common factors in the US Equity market are market beta and sector beta. Hedge your beta and be sector neutral if you want a large allocation from any allocator.\n"
   ]
  },
  {
   "cell_type": "markdown",
   "metadata": {
    "hidden": true,
    "id": "Bot7hCOVxz4j"
   },
   "source": [
    "---\n",
    "---"
   ]
  },
  {
   "cell_type": "markdown",
   "metadata": {
    "heading_collapsed": true,
    "id": "wPkccem4xz4k"
   },
   "source": [
    "# 3. Portfolio Strategy <a id=\"9\"></a>"
   ]
  },
  {
   "cell_type": "markdown",
   "metadata": {
    "heading_collapsed": true,
    "hidden": true,
    "id": "gSi07sbgxz4k"
   },
   "source": [
    "## A. Markowitz <a id=\"10\"></a>"
   ]
  },
  {
   "cell_type": "markdown",
   "metadata": {
    "hidden": true
   },
   "source": [
    "### Introduction\n",
    "In this blog post you will learn about the basic idea behind Markowitz portfolio optimization as well as how to do it in Python. We will then show how you can create a simple backtest that rebalances its portfolio in a Markowitz-optimal way. We hope you enjoy it and get a little more enlightened in the process. \n",
    "\n",
    "\n",
    "We will start by using random data and only later use actual stock data. This will hopefully help you to get a sense of how to use modelling and simulation to improve your understanding of the theoretical concepts. Don‘t forget that the skill of an algo-trader is to put mathematical models into code and this example is great practice.\n",
    "\n",
    "Let's start with importing a few modules, which we need later and produce a series of normally distributed returns. `cvxopt` is a convex solver which you can easily download with\n",
    "`sudo pip install cvxopt`.\n",
    "\n",
    "### Simulations"
   ]
  },
  {
   "cell_type": "code",
   "execution_count": 44,
   "metadata": {
    "hidden": true
   },
   "outputs": [],
   "source": [
    "import cvxopt as opt\n",
    "from cvxopt import blas, solvers\n",
    "\n",
    "\n",
    "np.random.seed(123)\n",
    "\n",
    "# Turn off progress printing \n",
    "solvers.options['show_progress'] = False"
   ]
  },
  {
   "cell_type": "code",
   "execution_count": 45,
   "metadata": {
    "hidden": true
   },
   "outputs": [],
   "source": [
    "# (*) To communicate with Plotly's server, sign in with credentials file\n",
    "import plotly as py  \n",
    "\n",
    "# (*) Useful Python/Plotly tools\n",
    "import plotly.tools as tls   \n",
    "\n",
    "# (*) Graph objects to piece together plots\n",
    "from plotly.graph_objs import *"
   ]
  },
  {
   "cell_type": "markdown",
   "metadata": {
    "hidden": true
   },
   "source": [
    "Assume that we have 4 assets, each with a return series of length 1000. We can use `numpy.random.randn` to sample returns from a normal distribution."
   ]
  },
  {
   "cell_type": "code",
   "execution_count": 46,
   "metadata": {
    "hidden": true
   },
   "outputs": [],
   "source": [
    "## NUMBER OF ASSETS\n",
    "n_assets = 4\n",
    "\n",
    "## NUMBER OF OBSERVATIONS\n",
    "n_obs = 1000\n",
    "\n",
    "return_vec = np.random.randn(n_assets, n_obs)"
   ]
  },
  {
   "cell_type": "code",
   "execution_count": 47,
   "metadata": {
    "hidden": true
   },
   "outputs": [
    {
     "data": {
      "text/plain": [
       "Text(0, 0.5, 'returns')"
      ]
     },
     "execution_count": 47,
     "metadata": {},
     "output_type": "execute_result"
    },
    {
     "data": {
      "image/png": "[encoded data removed]",
      "text/plain": [
       "<Figure size 432x288 with 1 Axes>"
      ]
     },
     "metadata": {
      "needs_background": "light"
     },
     "output_type": "display_data"
    }
   ],
   "source": [
    "fig = plt.figure()\n",
    "plt.plot(return_vec.T, alpha=.4);\n",
    "plt.xlabel('time')\n",
    "plt.ylabel('returns')"
   ]
  },
  {
   "cell_type": "markdown",
   "metadata": {
    "hidden": true
   },
   "source": [
    "These return series can be used to create a wide range of portfolios, which all\n",
    "have different returns and risks (standard deviation). We can produce a wide range\n",
    "of random weight vectors and plot those portfolios. As we want all our capital to be invested, this vector will have to some to one."
   ]
  },
  {
   "cell_type": "code",
   "execution_count": 48,
   "metadata": {
    "hidden": true
   },
   "outputs": [
    {
     "name": "stdout",
     "output_type": "stream",
     "text": [
      "[0.54066805 0.2360283  0.11660484 0.1066988 ]\n",
      "[0.27638339 0.03006307 0.47850085 0.21505269]\n"
     ]
    }
   ],
   "source": [
    "def rand_weights(n):\n",
    "    ''' Produces n random weights that sum to 1 '''\n",
    "    k = np.random.rand(n)\n",
    "    return k / sum(k)\n",
    "\n",
    "print (rand_weights(n_assets))\n",
    "print (rand_weights(n_assets))"
   ]
  },
  {
   "cell_type": "markdown",
   "metadata": {
    "hidden": true
   },
   "source": [
    "Next, lets evaluate how many of these random portfolios would perform. Towards this goal we are calculating the mean returns as well as the volatility (here we are using standard deviation). You can also see that there is\n",
    "a filter that only allows to plot portfolios with a standard deviation of < 2 for better illustration."
   ]
  },
  {
   "cell_type": "code",
   "execution_count": 49,
   "metadata": {
    "hidden": true
   },
   "outputs": [],
   "source": [
    "def random_portfolio(returns):\n",
    "    ''' \n",
    "    Returns the mean and standard deviation of returns for a random portfolio\n",
    "    '''\n",
    "\n",
    "    p = np.asmatrix(np.mean(returns, axis=1))\n",
    "    w = np.asmatrix(rand_weights(returns.shape[0]))\n",
    "    C = np.asmatrix(np.cov(returns))\n",
    "    \n",
    "    mu = w * p.T\n",
    "    sigma = np.sqrt(w * C * w.T)\n",
    "    \n",
    "    # This recursion reduces outliers to keep plots pretty\n",
    "    if sigma > 2:\n",
    "        return random_portfolio(returns)\n",
    "    return mu, sigma"
   ]
  },
  {
   "cell_type": "markdown",
   "metadata": {
    "hidden": true
   },
   "source": [
    "In the code you will notice the calculation of the return with:\n",
    "\n",
    "$$ R = p^T w $$\n",
    "\n",
    "where $R$ is the expected return, $p^T$ is the transpose of the vector for the mean\n",
    "returns for each time series and w is the weight vector of the portfolio. $p$ is a Nx1\n",
    "column vector, so $p^T$ turns into a 1xN row vector which can be multiplied with the\n",
    "Nx1 weight (column) vector w to give a scalar result. This is equivalent to the dot\n",
    "product used in the code. Keep in mind that `Python` has a reversed definition of\n",
    "rows and columns and the accurate `NumPy` version of the previous equation would\n",
    "be `R = w * p.T`\n",
    "\n",
    "Next, we calculate the standard deviation with\n",
    "\n",
    "$$\\sigma = \\sqrt{w^T C w}$$\n",
    "\n",
    "where $C$ is the covariance matrix of the returns which is a NxN matrix. Please\n",
    "note that if we simply calculated the simple standard deviation with the appropriate weighting using `std(array(ret_vec).T*w)` we would get a slightly different\n",
    "’bullet’. This is because the simple standard deviation calculation would not take\n",
    "covariances into account. In the covariance matrix, the values of the diagonal\n",
    "represent the simple variances of each asset while the off-diagonals are the variances between the assets. By using ordinary `std()` we effectively only regard the\n",
    "diagonal and miss the rest. A small but significant difference.\n",
    "\n",
    "Lets generate the mean returns and volatility for 500 random portfolios:"
   ]
  },
  {
   "cell_type": "code",
   "execution_count": 50,
   "metadata": {
    "hidden": true
   },
   "outputs": [],
   "source": [
    "import sys"
   ]
  },
  {
   "cell_type": "code",
   "execution_count": 51,
   "metadata": {
    "hidden": true
   },
   "outputs": [],
   "source": [
    "n_portfolios = 500\n",
    "means, stds = np.column_stack([\n",
    "    random_portfolio(return_vec) \n",
    "    for _ in range(n_portfolios)\n",
    "])"
   ]
  },
  {
   "cell_type": "markdown",
   "metadata": {
    "hidden": true
   },
   "source": [
    "Upon plotting those you will observe that they form a characteristic parabolic\n",
    "shape called the ‘Markowitz bullet‘ with the boundaries being called the ‘efficient\n",
    "frontier‘, where we have the lowest variance for a given expected."
   ]
  },
  {
   "cell_type": "code",
   "execution_count": 52,
   "metadata": {
    "hidden": true
   },
   "outputs": [
    {
     "data": {
      "text/plain": [
       "Text(0.5, 1.0, 'Mean and standard deviation of returns of randomly generated portfolios')"
      ]
     },
     "execution_count": 52,
     "metadata": {},
     "output_type": "execute_result"
    },
    {
     "data": {
      "image/png": "[encoded data removed]",
      "text/plain": [
       "<Figure size 432x288 with 1 Axes>"
      ]
     },
     "metadata": {
      "needs_background": "light"
     },
     "output_type": "display_data"
    }
   ],
   "source": [
    "fig = plt.figure()\n",
    "plt.plot(stds, means, 'o', markersize=5)\n",
    "plt.xlabel('std')\n",
    "plt.ylabel('mean')\n",
    "plt.title('Mean and standard deviation of returns of randomly generated portfolios')\n"
   ]
  },
  {
   "cell_type": "markdown",
   "metadata": {
    "hidden": true
   },
   "source": [
    "### Markowitz optimization and the Efficient Frontier\n",
    "\n",
    "Once we have a good representation of our portfolios as the blue dots show we can calculate the efficient frontier Markowitz-style. This is done by minimising\n",
    "\n",
    "$$ w^T C w$$\n",
    "\n",
    "for $w$ on the expected portfolio return $R^T w$ whilst keeping the sum of all the\n",
    "weights equal to 1:\n",
    "\n",
    "$$ \\sum_{i}{w_i} = 1 $$\n",
    "Here we parametrically run through $R^T w = \\mu$ and find the minimum variance\n",
    "for different $\\mu$‘s. This can be done with `scipy.optimise.minimize` but we have\n",
    "to define quite a complex problem with bounds, constraints and a Lagrange multiplier. Conveniently, the `cvxopt` package, a convex solver, does all of that for us. We used one of their [examples]() with some modifications as shown below. You will notice that there are some conditioning expressions in the code. They are simply needed to set up the problem. For more information please have a look at the `cvxopt` example.\n",
    "\n",
    "The `mus` vector produces a series of expected return values $\\mu$ in a non-linear and more appropriate way. We will see later that we don‘t need to calculate a lot of these as they perfectly fit a parabola, which can safely be extrapolated for higher values."
   ]
  },
  {
   "cell_type": "code",
   "execution_count": 53,
   "metadata": {
    "hidden": true
   },
   "outputs": [
    {
     "data": {
      "text/plain": [
       "[<matplotlib.lines.Line2D at 0x7f8cc7e9da00>]"
      ]
     },
     "execution_count": 53,
     "metadata": {},
     "output_type": "execute_result"
    },
    {
     "data": {
      "image/png": "[encoded data removed]",
      "text/plain": [
       "<Figure size 432x288 with 1 Axes>"
      ]
     },
     "metadata": {
      "needs_background": "light"
     },
     "output_type": "display_data"
    }
   ],
   "source": [
    "def optimal_portfolio(returns):\n",
    "    n = len(returns)\n",
    "    returns = np.asmatrix(returns)\n",
    "    \n",
    "    N = 100\n",
    "    mus = [10**(5.0 * t/N - 1.0) for t in range(N)]\n",
    "    \n",
    "    # Convert to cvxopt matrices\n",
    "    S = opt.matrix(np.cov(returns))\n",
    "    pbar = opt.matrix(np.mean(returns, axis=1))\n",
    "    \n",
    "    # Create constraint matrices\n",
    "    G = -opt.matrix(np.eye(n))   # negative n x n identity matrix\n",
    "    h = opt.matrix(0.0, (n ,1))\n",
    "    A = opt.matrix(1.0, (1, n))\n",
    "    b = opt.matrix(1.0)\n",
    "    \n",
    "    # Calculate efficient frontier weights using quadratic programming\n",
    "    portfolios = [solvers.qp(mu*S, -pbar, G, h, A, b)['x'] \n",
    "                  for mu in mus]\n",
    "    ## CALCULATE RISKS AND RETURNS FOR FRONTIER\n",
    "    returns = [blas.dot(pbar, x) for x in portfolios]\n",
    "    risks = [np.sqrt(blas.dot(x, S*x)) for x in portfolios]\n",
    "    ## CALCULATE THE 2ND DEGREE POLYNOMIAL OF THE FRONTIER CURVE\n",
    "    m1 = np.polyfit(returns, risks, 2)\n",
    "    x1 = np.sqrt(m1[2] / m1[0])\n",
    "    # CALCULATE THE OPTIMAL PORTFOLIO\n",
    "    wt = solvers.qp(opt.matrix(x1 * S), -pbar, G, h, A, b)['x']\n",
    "    return np.asarray(wt), returns, risks\n",
    "\n",
    "weights, returns, risks = optimal_portfolio(return_vec)\n",
    "\n",
    "fig = plt.figure()\n",
    "plt.plot(stds, means, 'o')\n",
    "plt.ylabel('mean')\n",
    "plt.xlabel('std')\n",
    "plt.plot(risks, returns, 'y-o')"
   ]
  },
  {
   "cell_type": "markdown",
   "metadata": {
    "hidden": true
   },
   "source": [
    "In yellow you can see the optimal portfolios for each of the desired returns (i.e. the `mus`). In addition, we get the one optimal portfolio returned:"
   ]
  },
  {
   "cell_type": "code",
   "execution_count": 54,
   "metadata": {
    "hidden": true
   },
   "outputs": [
    {
     "name": "stdout",
     "output_type": "stream",
     "text": [
      "[[2.77880107e-09]\n",
      " [3.20322848e-06]\n",
      " [1.54301198e-06]\n",
      " [9.99995251e-01]]\n"
     ]
    }
   ],
   "source": [
    "print (weights)"
   ]
  },
  {
   "cell_type": "markdown",
   "metadata": {
    "hidden": true,
    "id": "KY52krLXxz4l"
   },
   "source": [
    "---\n",
    "---\n"
   ]
  },
  {
   "cell_type": "markdown",
   "metadata": {
    "collapsed": true,
    "heading_collapsed": true,
    "hidden": true,
    "id": "XpCBVR6Pxz49"
   },
   "source": [
    "## B. Risk-Constrained Portfolio Optimization <a id=\"11\"></a>\n"
   ]
  },
  {
   "cell_type": "markdown",
   "metadata": {
    "hidden": true,
    "id": "3VaAdfu-xz4-"
   },
   "source": [
    "Risk management is critical for constructing portfolios and building algorithms. Its main function is to improve the quality and consistency of returns by adequately accounting for risk. Any returns obtained by *unexpected* risks, which are always lurking within our portfolio, can usually not be relied upon to produce profits over a long time. By limiting the impact of or eliminating these unexpected risks, the portfolio should ideally only have exposure to the alpha we are pursuing. In this lecture, we will focus on how to use factor model in risk management. \n",
    "\n",
    "### Factor Models\n",
    "The notation we generally use when introducing a factor model is as follows:\n",
    "\n",
    "$$R_i = a_i + b_{i1} F_1 + b_{i2} F_2 + \\ldots + b_{iK} F_k + \\epsilon_i$$\n",
    "\n",
    "where:\n",
    "\n",
    "$$\\begin{eqnarray}\n",
    "k &=& \\text{the number of factors}\\\\\n",
    "R_i &=& \\text{the return for company $i$}, \\\\\n",
    "a_i &=& \\text{the intercept},\\\\\n",
    "F_j &=& \\text{the return for factor $j$, $j \\in [1,k]$}, \\\\\n",
    "b_{ij} &=& \\text{the corresponding exposure to factor $j$, $j \\in [1,k]$,} \\\\\n",
    "\\epsilon_i &=& \\text{specific fluctuation of company $i$.}\\\\\n",
    "\\end{eqnarray}$$\n",
    "\n"
   ]
  },
  {
   "cell_type": "markdown",
   "metadata": {
    "hidden": true,
    "id": "1BrnPjSVxz4-"
   },
   "source": [
    "To quantify unexpected risks and have acceptable risk levels in a given portfolio, we need to answer 3 questions:\n",
    "\n",
    "1. What proportion of the variance of my portfolio comes from common risk factors?\n",
    "      \n",
    "2. How do I limit this risk?\n",
    "   \n",
    "3. Where does the return/PNL of my portfolio come from, i.e., to what do I attribute the performance?"
   ]
  },
  {
   "cell_type": "markdown",
   "metadata": {
    "collapsed": true,
    "hidden": true,
    "id": "c21MPtZcxz4-"
   },
   "source": [
    "These risk factors can be:\n",
    "- Classical fundamental factors, such as those in the CAPM (market risk) or the Fama-French 3-Factor Model (price-to-book (P/B) ratio, volatility)\n",
    "- Sector or industry exposure\n",
    "- Macroeconomic factors, such as inflation or interest rates\n",
    "- Statistical factors that are based on historical returns and derived from principal component\n",
    "  analysis"
   ]
  },
  {
   "cell_type": "markdown",
   "metadata": {
    "hidden": true,
    "id": "WaDAhpTSxz5C"
   },
   "source": [
    "### Factor Returns and Exposures\n",
    "\n",
    "We will start with the classic Fama-French factors. The Fama-French factors are the market, company size, and company price-to-book (PB) ratio. We compute each asset's exposures to these factors, computing the factors themselves using pipeline code borrowed from the Fundamental Factor Models lecture. "
   ]
  },
  {
   "cell_type": "markdown",
   "metadata": {
    "hidden": true,
    "id": "Z1VYtlbExz5E"
   },
   "source": [
    "### Calculating the Exposures\n",
    "\n",
    "Running a multiple linear regression on the fundamental factors for each asset in our universe, we can obtain the corresponding factor exposure for each asset. Here we express:\n",
    "\n",
    "$$ R_i = \\alpha_i + \\beta_{i, MKT} R_{i, MKT} + \\beta_{i, HML} R_{i, HML} + \\beta_{i, SMB} R_{i, SMB} + \\epsilon_i$$\n",
    "\n",
    "for each asset $S_i$. This shows us how much of each individual security's return is made up of these risk factors.\n",
    "\n",
    "We calculate the risk exposures on an asset-by-asset basis in order to get a more granular view of the risk of our portfolio. This approach requires that we know the holdings of the portfolio itself, on any given day, and is computationally expensive."
   ]
  },
  {
   "cell_type": "markdown",
   "metadata": {
    "hidden": true,
    "id": "GdoKX0vXxz5J"
   },
   "source": [
    "### Splitting Variance into Common Factor Risks\n",
    "\n",
    "The portfolio variance can be represented as:\n",
    "  \n",
    "  $$\\sigma^2 = \\omega BVB^{\\top}\\omega^{\\top} + \\omega D\\omega^{\\top}$$\n",
    "\n",
    "where:\n",
    "\n",
    "$$\\begin{eqnarray}\n",
    "B &=& \\text{the matrix of factor exposures of $n$ assets to the factors} \\\\\n",
    "    V &=& \\text{the covariance matrix of factors} \\\\\n",
    "    D &=& \\text{the specific variance} \\\\\n",
    "    \\omega &=& \\text{the vector of portfolio weights for $n$ assets}\\\\\n",
    "    \\omega BVB^{\\top}\\omega^{\\top} &=& \\text{common factor variance} \\\\\n",
    "    \\omega D\\omega^{\\top} &=& \\text{specific variance} \\\\\n",
    "\\end{eqnarray}$$"
   ]
  },
  {
   "cell_type": "markdown",
   "metadata": {
    "hidden": true,
    "id": "TMDZz9QPxz5J"
   },
   "source": [
    "#### Computing Common Factor and Specific Variance:\n",
    "\n",
    "Here we build functions to break out the risk in our portfolio. Suppose that our portfolio consists of all stocks in the Q3000US, equally-weighted. Let's have a look at how much of the variance of the returns in this universe are due to common factor risk."
   ]
  },
  {
   "cell_type": "markdown",
   "metadata": {
    "hidden": true,
    "id": "VH0T08QTxz5L"
   },
   "source": [
    "In order to actually calculate the percentage of our portfolio variance that is made up of common factor risk, we do the following:\n",
    "\n",
    "\n",
    "$$\\frac{\\text{common factor variance}}{\\text{common factor variance + specific variance}}$$"
   ]
  },
  {
   "cell_type": "markdown",
   "metadata": {
    "hidden": true,
    "id": "eBWyt6JFxz5M"
   },
   "source": [
    "So we see that if we just take every single security in the Q3000US and equally-weight them, we will end up possessing a portfolio that effectively only contains common risk."
   ]
  },
  {
   "cell_type": "markdown",
   "metadata": {
    "hidden": true,
    "id": "7umbsDjwxz5M"
   },
   "source": [
    "### Risk-Constrained Optimization\n",
    "\n",
    "Currently we are operating with an equal-weighted portfolio. However, we can reapportion those weights in such a way that we minimize the common factor risk illustrated by our common factor exposures. This is a portfolio optimization problem to find the optimal weights.\n",
    "\n",
    "We define this problem as:\n",
    "\n",
    "\\begin{array}{ll} \\mbox{$\\text{minimize/maximum}$}_{w} & \\text{objective function}\\\\\n",
    "\\mbox{subject to} & {\\bf 1}^T \\omega = 1, \\quad f=B^T\\omega\\\\\n",
    "& \\omega \\in {\\cal W}, \\quad f \\in {\\cal F},\n",
    "\\end{array}\n",
    "\n",
    "where the variable $w$ is the vector of allocations, the variable $f$ is weighted factor exposures, and  the variable ${\\cal F}$ provides our constraints for $f$. We set ${\\cal F}$ as a vector to bound the weighted factor exposures of the porfolio. These constraints allow us to reject weightings that do not fit our criteria. For example, we can set the maximum factor exposures that our portfolios can have by changing the value of ${\\cal F}$. A value of $[1,1,1]$ would indicate that we want the maximum factor exposure of the portfolio to each factor to be less than $1$, rejecting any portfolios that do not meet that condition.\n",
    "\n",
    "We define the objective function as whichever business goal we value highest. This can be something such as maximizing the Sharpe ratio or minimizing the volatility. Ultimately, what we want to solve for in this optimization problem is the weights, $\\omega$.\n",
    "\n",
    "Let's quickly generate some random weights to see how the weighted factor exposures of the portfolio change."
   ]
  },
  {
   "cell_type": "markdown",
   "metadata": {
    "hidden": true,
    "id": "n8-Pe9evxz5N"
   },
   "source": [
    "The variable $f$ contains the weighted factor exposures of our portfolio, with size equal to the number of factors we have.  As we change $\\omega$, our weights, our weighted exposures, $f$, also change."
   ]
  },
  {
   "cell_type": "markdown",
   "metadata": {
    "hidden": true,
    "id": "9QgkhGKoxz5R"
   },
   "source": [
    "--- \n",
    "---"
   ]
  },
  {
   "cell_type": "markdown",
   "metadata": {
    "heading_collapsed": true,
    "id": "NmWeuv8qxz5R"
   },
   "source": [
    "# APPENDIX <a id=\"12\"></a>\n",
    "<a id=\"11\"></a>"
   ]
  },
  {
   "cell_type": "markdown",
   "metadata": {
    "heading_collapsed": true,
    "hidden": true,
    "id": "rAFAR_Ryxz5R"
   },
   "source": [
    "## A: Outlook for Part II: Derivatives, Big Data and Sentiment Analysis   <a id=\"13\"></a>"
   ]
  },
  {
   "cell_type": "markdown",
   "metadata": {
    "hidden": true
   },
   "source": [
    "### Potential Topics for next Semester:\n",
    "- Futures, Options and other Derivatives — How to model them accordingly for AlgoTrading\n",
    "- Data Scraping — How to get your hands on unique Data and gain an Edge\n",
    "- Sentiment Analysis: Using pre-trained Models to conduct a Sentiment analysis"
   ]
  },
  {
   "cell_type": "markdown",
   "metadata": {
    "hidden": true,
    "id": "45rB6UBBxz5R"
   },
   "source": [
    "--- \n",
    "---"
   ]
  },
  {
   "cell_type": "markdown",
   "metadata": {
    "heading_collapsed": true,
    "hidden": true,
    "id": "F_jbc85zxz5R"
   },
   "source": [
    "## B. Sources for a Stream of Information and novel Strategies <a id=\"14\"></a>"
   ]
  },
  {
   "cell_type": "markdown",
   "metadata": {
    "hidden": true,
    "id": "11KUqdUCxz5S"
   },
   "source": [
    "[Quant Library on GitHub](https://github.com/wilsonfreitas/awesome-quant)\n",
    "<br>\n",
    "[Risk and Portfolio Management Library](https://riskfolio-lib.readthedocs.io/en/latest/index.html)\n",
    "<br>\n",
    "[KPI Library/Stock Screener](http://www.stockfetcher.com)\n",
    "<br>\n",
    "[Machine Learning Financial Laboratory](https://mlfinlab.readthedocs.io/en/latest/index.html)\n",
    "<br>\n",
    "[Backtesting Library](https://pypi.org/project/Backtesting/)\n",
    "<br>\n"
   ]
  },
  {
   "cell_type": "markdown",
   "metadata": {
    "hidden": true,
    "id": "pkPKadrwxz5S"
   },
   "source": [
    "--- \n",
    "---"
   ]
  },
  {
   "cell_type": "markdown",
   "metadata": {
    "slideshow": {
     "slide_type": "slide"
    }
   },
   "source": [
    "# Thank you for completing this lecture!"
   ]
  },
  {
   "cell_type": "markdown",
   "metadata": {
    "slideshow": {
     "slide_type": "fragment"
    }
   },
   "source": [
    "<hr>\n",
    "<p> <center>Lecture by Jonas Gottal — This notebook is released exclusively for the <a href=\"https://www.tuinvest.de/\">TU Investment Club e.V.</a></center></p>\n"
   ]
  }
 ],
 "metadata": {
  "celltoolbar": "Slideshow",
  "colab": {
   "collapsed_sections": [
    "FK4Tiq1oxz3g",
    "Icj8bapFxz3g",
    "4eavG12Lxz3g",
    "6XDRWhHsxz3h",
    "C7o0pogyxz3i",
    "O3G9cM7_xz3j",
    "P42thfHrxz3j",
    "EjqgjBo7xz3l",
    "O7rjgpH5xz3q",
    "hybT2Yp3xz3q",
    "baWO_RQTxz3y",
    "f8CXxNDGxz3y",
    "0n7KsFlMxz3z",
    "78upWypwxz3z",
    "gGvs3k68xz3z",
    "QIs2bUT8xz3z",
    "LEEiUwXCxz3z",
    "POtbb9rdxz3z",
    "Kxjy-9r4xz3z",
    "YRBrz6_fxz31",
    "8ATPPUNPxz34",
    "BW6I4jP8xz34",
    "ZibjDJumxz35",
    "6Z6EvlrHxz35",
    "x5opw4oKxz37",
    "EKj7beubxz38",
    "ofPWsDLjxz38",
    "l9LiYiebxz38",
    "wKNxp-oOxz38",
    "06ZvGan1xz38",
    "48cvH63pxz4A",
    "3RDy2rT9xz4D",
    "t5eHrnPzxz4E",
    "uD--fwKixz4G",
    "2mcfAsIrxz4J",
    "vBeaOvlcxz4J",
    "sN-0k81uxz4N",
    "qGorL0fpxz4N",
    "kEeZ7EgXxz4N",
    "t3U0cviJxz4O",
    "yzsacy9yxz4P",
    "DSMB9nhnxz4R",
    "QZtucH1Yxz4U",
    "EYboX73Jxz4W",
    "knXxzIc8xz4X",
    "lSENnwKdxz4X",
    "VukfbGMGxz4Y",
    "uy2cI60Wxz4c",
    "s8_24bmDxz4g",
    "zJt3r94Vxz4h",
    "wPkccem4xz4k",
    "gSi07sbgxz4k",
    "E9fxpgACxz4k",
    "3WC0wd_yxz4l",
    "vGf0gpjNxz4l",
    "qJQ26qCoxz4l",
    "Cll_rwpVxz4p",
    "6u_bbxy7xz4p",
    "Ek2K3UqWxz4q",
    "gSFCc-mExz4r",
    "eLsUwUvyxz4s",
    "Y8--U1eOxz4s",
    "51sRwjaKxz4u",
    "_tGV2ubbxz4v",
    "pd3U5Q5-xz4v",
    "iBjATcZnxz4w",
    "meshN6JJxz4x",
    "fN6yFRo_xz4y",
    "MkW7uwApxz40",
    "63zcv0Uzxz41",
    "xLBopEiRxz42",
    "8W8rjaq7xz43",
    "OxfeEHSExz47",
    "zP3miGnWxz48",
    "u7UpbekLxz49",
    "XpCBVR6Pxz49",
    "3VaAdfu-xz4-",
    "yAGQ0wlTxz4-",
    "WaDAhpTSxz5C",
    "Z1VYtlbExz5E",
    "m2ihbkI5xz5H",
    "GdoKX0vXxz5J",
    "TMDZz9QPxz5J",
    "7umbsDjwxz5M",
    "PQG4E1mWxz5O",
    "gUG8affkxz5Q",
    "NmWeuv8qxz5R",
    "F_jbc85zxz5R"
   ],
   "name": "Lecture3.ipynb",
   "provenance": []
  },
  "kernelspec": {
   "display_name": "Python 3",
   "language": "python",
   "name": "python3"
  },
  "language_info": {
   "codemirror_mode": {
    "name": "ipython",
    "version": 3
   },
   "file_extension": ".py",
   "mimetype": "text/x-python",
   "name": "python",
   "nbconvert_exporter": "python",
   "pygments_lexer": "ipython3",
   "version": "3.8.3"
  }
 },
 "nbformat": 4,
 "nbformat_minor": 1
}
